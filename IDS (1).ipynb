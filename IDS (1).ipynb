{
  "cells": [
    {
      "cell_type": "code",
      "execution_count": null,
      "metadata": {
        "colab": {
          "base_uri": "https://localhost:8080/"
        },
        "id": "Xt2ZOXyiM9p3",
        "outputId": "c04c2a40-31dd-4bda-9ab4-4f8f893b4b5b"
      },
      "outputs": [
        {
          "name": "stdout",
          "output_type": "stream",
          "text": [
            "Drive already mounted at /content/drive; to attempt to forcibly remount, call drive.mount(\"/content/drive\", force_remount=True).\n"
          ]
        }
      ],
      "source": [
        "from google.colab import drive\n",
        "drive.mount('/content/drive')"
      ]
    },
    {
      "cell_type": "code",
      "execution_count": null,
      "metadata": {
        "id": "rpcRjn1gNTeA"
      },
      "outputs": [],
      "source": [
        "import pandas as pd\n",
        "file_path = '/content/drive/MyDrive/ids/iot23_combined.csv' # Replace your_file_name.csv with your actual file name\n",
        "# Now, you can use the file_path variable as needed, for example in pd.read_csv\n",
        "df = pd.read_csv(file_path)"
      ]
    },
    {
      "cell_type": "code",
      "execution_count": null,
      "metadata": {
        "colab": {
          "base_uri": "https://localhost:8080/",
          "height": 273
        },
        "id": "YnFS7d--QWKV",
        "outputId": "4c5d95dc-57be-4d4e-bf56-f100c7ef90fe"
      },
      "outputs": [
        {
          "data": {
            "application/vnd.google.colaboratory.intrinsic+json": {
              "type": "dataframe",
              "variable_name": "df_check"
            },
            "text/html": [
              "\n",
              "  <div id=\"df-a1703e39-c53a-4e36-8a8d-124bf715bc53\" class=\"colab-df-container\">\n",
              "    <div>\n",
              "<style scoped>\n",
              "    .dataframe tbody tr th:only-of-type {\n",
              "        vertical-align: middle;\n",
              "    }\n",
              "\n",
              "    .dataframe tbody tr th {\n",
              "        vertical-align: top;\n",
              "    }\n",
              "\n",
              "    .dataframe thead th {\n",
              "        text-align: right;\n",
              "    }\n",
              "</style>\n",
              "<table border=\"1\" class=\"dataframe\">\n",
              "  <thead>\n",
              "    <tr style=\"text-align: right;\">\n",
              "      <th></th>\n",
              "      <th>Unnamed: 0</th>\n",
              "      <th>ts</th>\n",
              "      <th>id.orig_h</th>\n",
              "      <th>duration</th>\n",
              "      <th>orig_bytes</th>\n",
              "      <th>resp_bytes</th>\n",
              "      <th>missed_bytes</th>\n",
              "      <th>orig_pkts</th>\n",
              "      <th>orig_ip_bytes</th>\n",
              "      <th>resp_pkts</th>\n",
              "      <th>...</th>\n",
              "      <th>conn_state_RSTOS0</th>\n",
              "      <th>conn_state_RSTR</th>\n",
              "      <th>conn_state_RSTRH</th>\n",
              "      <th>conn_state_S0</th>\n",
              "      <th>conn_state_S1</th>\n",
              "      <th>conn_state_S2</th>\n",
              "      <th>conn_state_S3</th>\n",
              "      <th>conn_state_SF</th>\n",
              "      <th>conn_state_SH</th>\n",
              "      <th>conn_state_SHR</th>\n",
              "    </tr>\n",
              "  </thead>\n",
              "  <tbody>\n",
              "    <tr>\n",
              "      <th>0</th>\n",
              "      <td>0</td>\n",
              "      <td>1.540470e+09</td>\n",
              "      <td>192.168.1.132</td>\n",
              "      <td>0.003497</td>\n",
              "      <td>0</td>\n",
              "      <td>0</td>\n",
              "      <td>0.0</td>\n",
              "      <td>5.0</td>\n",
              "      <td>212.0</td>\n",
              "      <td>3.0</td>\n",
              "      <td>...</td>\n",
              "      <td>0</td>\n",
              "      <td>0</td>\n",
              "      <td>0</td>\n",
              "      <td>0</td>\n",
              "      <td>0</td>\n",
              "      <td>0</td>\n",
              "      <td>0</td>\n",
              "      <td>1</td>\n",
              "      <td>0</td>\n",
              "      <td>0</td>\n",
              "    </tr>\n",
              "    <tr>\n",
              "      <th>1</th>\n",
              "      <td>1</td>\n",
              "      <td>1.540470e+09</td>\n",
              "      <td>192.168.1.132</td>\n",
              "      <td>0.036724</td>\n",
              "      <td>34</td>\n",
              "      <td>311</td>\n",
              "      <td>0.0</td>\n",
              "      <td>1.0</td>\n",
              "      <td>62.0</td>\n",
              "      <td>1.0</td>\n",
              "      <td>...</td>\n",
              "      <td>0</td>\n",
              "      <td>0</td>\n",
              "      <td>0</td>\n",
              "      <td>0</td>\n",
              "      <td>0</td>\n",
              "      <td>0</td>\n",
              "      <td>0</td>\n",
              "      <td>1</td>\n",
              "      <td>0</td>\n",
              "      <td>0</td>\n",
              "    </tr>\n",
              "    <tr>\n",
              "      <th>2</th>\n",
              "      <td>2</td>\n",
              "      <td>1.540469e+09</td>\n",
              "      <td>192.168.1.132</td>\n",
              "      <td>384.518261</td>\n",
              "      <td>15072</td>\n",
              "      <td>0</td>\n",
              "      <td>0.0</td>\n",
              "      <td>48.0</td>\n",
              "      <td>16416.0</td>\n",
              "      <td>0.0</td>\n",
              "      <td>...</td>\n",
              "      <td>0</td>\n",
              "      <td>0</td>\n",
              "      <td>0</td>\n",
              "      <td>1</td>\n",
              "      <td>0</td>\n",
              "      <td>0</td>\n",
              "      <td>0</td>\n",
              "      <td>0</td>\n",
              "      <td>0</td>\n",
              "      <td>0</td>\n",
              "    </tr>\n",
              "    <tr>\n",
              "      <th>3</th>\n",
              "      <td>3</td>\n",
              "      <td>1.540470e+09</td>\n",
              "      <td>192.168.1.132</td>\n",
              "      <td>0.270332</td>\n",
              "      <td>48</td>\n",
              "      <td>48</td>\n",
              "      <td>0.0</td>\n",
              "      <td>1.0</td>\n",
              "      <td>76.0</td>\n",
              "      <td>1.0</td>\n",
              "      <td>...</td>\n",
              "      <td>0</td>\n",
              "      <td>0</td>\n",
              "      <td>0</td>\n",
              "      <td>0</td>\n",
              "      <td>0</td>\n",
              "      <td>0</td>\n",
              "      <td>0</td>\n",
              "      <td>1</td>\n",
              "      <td>0</td>\n",
              "      <td>0</td>\n",
              "    </tr>\n",
              "    <tr>\n",
              "      <th>4</th>\n",
              "      <td>4</td>\n",
              "      <td>1.540470e+09</td>\n",
              "      <td>192.168.1.132</td>\n",
              "      <td>0.111429</td>\n",
              "      <td>48</td>\n",
              "      <td>48</td>\n",
              "      <td>0.0</td>\n",
              "      <td>1.0</td>\n",
              "      <td>76.0</td>\n",
              "      <td>1.0</td>\n",
              "      <td>...</td>\n",
              "      <td>0</td>\n",
              "      <td>0</td>\n",
              "      <td>0</td>\n",
              "      <td>0</td>\n",
              "      <td>0</td>\n",
              "      <td>0</td>\n",
              "      <td>0</td>\n",
              "      <td>1</td>\n",
              "      <td>0</td>\n",
              "      <td>0</td>\n",
              "    </tr>\n",
              "  </tbody>\n",
              "</table>\n",
              "<p>5 rows × 28 columns</p>\n",
              "</div>\n",
              "    <div class=\"colab-df-buttons\">\n",
              "\n",
              "  <div class=\"colab-df-container\">\n",
              "    <button class=\"colab-df-convert\" onclick=\"convertToInteractive('df-a1703e39-c53a-4e36-8a8d-124bf715bc53')\"\n",
              "            title=\"Convert this dataframe to an interactive table.\"\n",
              "            style=\"display:none;\">\n",
              "\n",
              "  <svg xmlns=\"http://www.w3.org/2000/svg\" height=\"24px\" viewBox=\"0 -960 960 960\">\n",
              "    <path d=\"M120-120v-720h720v720H120Zm60-500h600v-160H180v160Zm220 220h160v-160H400v160Zm0 220h160v-160H400v160ZM180-400h160v-160H180v160Zm440 0h160v-160H620v160ZM180-180h160v-160H180v160Zm440 0h160v-160H620v160Z\"/>\n",
              "  </svg>\n",
              "    </button>\n",
              "\n",
              "  <style>\n",
              "    .colab-df-container {\n",
              "      display:flex;\n",
              "      gap: 12px;\n",
              "    }\n",
              "\n",
              "    .colab-df-convert {\n",
              "      background-color: #E8F0FE;\n",
              "      border: none;\n",
              "      border-radius: 50%;\n",
              "      cursor: pointer;\n",
              "      display: none;\n",
              "      fill: #1967D2;\n",
              "      height: 32px;\n",
              "      padding: 0 0 0 0;\n",
              "      width: 32px;\n",
              "    }\n",
              "\n",
              "    .colab-df-convert:hover {\n",
              "      background-color: #E2EBFA;\n",
              "      box-shadow: 0px 1px 2px rgba(60, 64, 67, 0.3), 0px 1px 3px 1px rgba(60, 64, 67, 0.15);\n",
              "      fill: #174EA6;\n",
              "    }\n",
              "\n",
              "    .colab-df-buttons div {\n",
              "      margin-bottom: 4px;\n",
              "    }\n",
              "\n",
              "    [theme=dark] .colab-df-convert {\n",
              "      background-color: #3B4455;\n",
              "      fill: #D2E3FC;\n",
              "    }\n",
              "\n",
              "    [theme=dark] .colab-df-convert:hover {\n",
              "      background-color: #434B5C;\n",
              "      box-shadow: 0px 1px 3px 1px rgba(0, 0, 0, 0.15);\n",
              "      filter: drop-shadow(0px 1px 2px rgba(0, 0, 0, 0.3));\n",
              "      fill: #FFFFFF;\n",
              "    }\n",
              "  </style>\n",
              "\n",
              "    <script>\n",
              "      const buttonEl =\n",
              "        document.querySelector('#df-a1703e39-c53a-4e36-8a8d-124bf715bc53 button.colab-df-convert');\n",
              "      buttonEl.style.display =\n",
              "        google.colab.kernel.accessAllowed ? 'block' : 'none';\n",
              "\n",
              "      async function convertToInteractive(key) {\n",
              "        const element = document.querySelector('#df-a1703e39-c53a-4e36-8a8d-124bf715bc53');\n",
              "        const dataTable =\n",
              "          await google.colab.kernel.invokeFunction('convertToInteractive',\n",
              "                                                    [key], {});\n",
              "        if (!dataTable) return;\n",
              "\n",
              "        const docLinkHtml = 'Like what you see? Visit the ' +\n",
              "          '<a target=\"_blank\" href=https://colab.research.google.com/notebooks/data_table.ipynb>data table notebook</a>'\n",
              "          + ' to learn more about interactive tables.';\n",
              "        element.innerHTML = '';\n",
              "        dataTable['output_type'] = 'display_data';\n",
              "        await google.colab.output.renderOutput(dataTable, element);\n",
              "        const docLink = document.createElement('div');\n",
              "        docLink.innerHTML = docLinkHtml;\n",
              "        element.appendChild(docLink);\n",
              "      }\n",
              "    </script>\n",
              "  </div>\n",
              "\n",
              "\n",
              "<div id=\"df-5e03e2cf-30d0-4bbc-8247-75bd2d9a726b\">\n",
              "  <button class=\"colab-df-quickchart\" onclick=\"quickchart('df-5e03e2cf-30d0-4bbc-8247-75bd2d9a726b')\"\n",
              "            title=\"Suggest charts\"\n",
              "            style=\"display:none;\">\n",
              "\n",
              "<svg xmlns=\"http://www.w3.org/2000/svg\" height=\"24px\"viewBox=\"0 0 24 24\"\n",
              "     width=\"24px\">\n",
              "    <g>\n",
              "        <path d=\"M19 3H5c-1.1 0-2 .9-2 2v14c0 1.1.9 2 2 2h14c1.1 0 2-.9 2-2V5c0-1.1-.9-2-2-2zM9 17H7v-7h2v7zm4 0h-2V7h2v10zm4 0h-2v-4h2v4z\"/>\n",
              "    </g>\n",
              "</svg>\n",
              "  </button>\n",
              "\n",
              "<style>\n",
              "  .colab-df-quickchart {\n",
              "      --bg-color: #E8F0FE;\n",
              "      --fill-color: #1967D2;\n",
              "      --hover-bg-color: #E2EBFA;\n",
              "      --hover-fill-color: #174EA6;\n",
              "      --disabled-fill-color: #AAA;\n",
              "      --disabled-bg-color: #DDD;\n",
              "  }\n",
              "\n",
              "  [theme=dark] .colab-df-quickchart {\n",
              "      --bg-color: #3B4455;\n",
              "      --fill-color: #D2E3FC;\n",
              "      --hover-bg-color: #434B5C;\n",
              "      --hover-fill-color: #FFFFFF;\n",
              "      --disabled-bg-color: #3B4455;\n",
              "      --disabled-fill-color: #666;\n",
              "  }\n",
              "\n",
              "  .colab-df-quickchart {\n",
              "    background-color: var(--bg-color);\n",
              "    border: none;\n",
              "    border-radius: 50%;\n",
              "    cursor: pointer;\n",
              "    display: none;\n",
              "    fill: var(--fill-color);\n",
              "    height: 32px;\n",
              "    padding: 0;\n",
              "    width: 32px;\n",
              "  }\n",
              "\n",
              "  .colab-df-quickchart:hover {\n",
              "    background-color: var(--hover-bg-color);\n",
              "    box-shadow: 0 1px 2px rgba(60, 64, 67, 0.3), 0 1px 3px 1px rgba(60, 64, 67, 0.15);\n",
              "    fill: var(--button-hover-fill-color);\n",
              "  }\n",
              "\n",
              "  .colab-df-quickchart-complete:disabled,\n",
              "  .colab-df-quickchart-complete:disabled:hover {\n",
              "    background-color: var(--disabled-bg-color);\n",
              "    fill: var(--disabled-fill-color);\n",
              "    box-shadow: none;\n",
              "  }\n",
              "\n",
              "  .colab-df-spinner {\n",
              "    border: 2px solid var(--fill-color);\n",
              "    border-color: transparent;\n",
              "    border-bottom-color: var(--fill-color);\n",
              "    animation:\n",
              "      spin 1s steps(1) infinite;\n",
              "  }\n",
              "\n",
              "  @keyframes spin {\n",
              "    0% {\n",
              "      border-color: transparent;\n",
              "      border-bottom-color: var(--fill-color);\n",
              "      border-left-color: var(--fill-color);\n",
              "    }\n",
              "    20% {\n",
              "      border-color: transparent;\n",
              "      border-left-color: var(--fill-color);\n",
              "      border-top-color: var(--fill-color);\n",
              "    }\n",
              "    30% {\n",
              "      border-color: transparent;\n",
              "      border-left-color: var(--fill-color);\n",
              "      border-top-color: var(--fill-color);\n",
              "      border-right-color: var(--fill-color);\n",
              "    }\n",
              "    40% {\n",
              "      border-color: transparent;\n",
              "      border-right-color: var(--fill-color);\n",
              "      border-top-color: var(--fill-color);\n",
              "    }\n",
              "    60% {\n",
              "      border-color: transparent;\n",
              "      border-right-color: var(--fill-color);\n",
              "    }\n",
              "    80% {\n",
              "      border-color: transparent;\n",
              "      border-right-color: var(--fill-color);\n",
              "      border-bottom-color: var(--fill-color);\n",
              "    }\n",
              "    90% {\n",
              "      border-color: transparent;\n",
              "      border-bottom-color: var(--fill-color);\n",
              "    }\n",
              "  }\n",
              "</style>\n",
              "\n",
              "  <script>\n",
              "    async function quickchart(key) {\n",
              "      const quickchartButtonEl =\n",
              "        document.querySelector('#' + key + ' button');\n",
              "      quickchartButtonEl.disabled = true;  // To prevent multiple clicks.\n",
              "      quickchartButtonEl.classList.add('colab-df-spinner');\n",
              "      try {\n",
              "        const charts = await google.colab.kernel.invokeFunction(\n",
              "            'suggestCharts', [key], {});\n",
              "      } catch (error) {\n",
              "        console.error('Error during call to suggestCharts:', error);\n",
              "      }\n",
              "      quickchartButtonEl.classList.remove('colab-df-spinner');\n",
              "      quickchartButtonEl.classList.add('colab-df-quickchart-complete');\n",
              "    }\n",
              "    (() => {\n",
              "      let quickchartButtonEl =\n",
              "        document.querySelector('#df-5e03e2cf-30d0-4bbc-8247-75bd2d9a726b button');\n",
              "      quickchartButtonEl.style.display =\n",
              "        google.colab.kernel.accessAllowed ? 'block' : 'none';\n",
              "    })();\n",
              "  </script>\n",
              "</div>\n",
              "\n",
              "    </div>\n",
              "  </div>\n"
            ],
            "text/plain": [
              "   Unnamed: 0            ts      id.orig_h    duration  orig_bytes  \\\n",
              "0           0  1.540470e+09  192.168.1.132    0.003497           0   \n",
              "1           1  1.540470e+09  192.168.1.132    0.036724          34   \n",
              "2           2  1.540469e+09  192.168.1.132  384.518261       15072   \n",
              "3           3  1.540470e+09  192.168.1.132    0.270332          48   \n",
              "4           4  1.540470e+09  192.168.1.132    0.111429          48   \n",
              "\n",
              "   resp_bytes  missed_bytes  orig_pkts  orig_ip_bytes  resp_pkts  ...  \\\n",
              "0           0           0.0        5.0          212.0        3.0  ...   \n",
              "1         311           0.0        1.0           62.0        1.0  ...   \n",
              "2           0           0.0       48.0        16416.0        0.0  ...   \n",
              "3          48           0.0        1.0           76.0        1.0  ...   \n",
              "4          48           0.0        1.0           76.0        1.0  ...   \n",
              "\n",
              "   conn_state_RSTOS0 conn_state_RSTR  conn_state_RSTRH  conn_state_S0  \\\n",
              "0                  0               0                 0              0   \n",
              "1                  0               0                 0              0   \n",
              "2                  0               0                 0              1   \n",
              "3                  0               0                 0              0   \n",
              "4                  0               0                 0              0   \n",
              "\n",
              "   conn_state_S1  conn_state_S2  conn_state_S3  conn_state_SF  conn_state_SH  \\\n",
              "0              0              0              0              1              0   \n",
              "1              0              0              0              1              0   \n",
              "2              0              0              0              0              0   \n",
              "3              0              0              0              1              0   \n",
              "4              0              0              0              1              0   \n",
              "\n",
              "   conn_state_SHR  \n",
              "0               0  \n",
              "1               0  \n",
              "2               0  \n",
              "3               0  \n",
              "4               0  \n",
              "\n",
              "[5 rows x 28 columns]"
            ]
          },
          "execution_count": 3,
          "metadata": {},
          "output_type": "execute_result"
        }
      ],
      "source": [
        "# Read a small sample to check it's working\n",
        "df_check = pd.read_csv(file_path, nrows=5)\n",
        "df_check.head()"
      ]
    },
    {
      "cell_type": "code",
      "execution_count": null,
      "metadata": {
        "colab": {
          "base_uri": "https://localhost:8080/"
        },
        "id": "QgWIWxOcWkUH",
        "outputId": "7da98a97-7d14-4852-a6dc-51565dc952c8"
      },
      "outputs": [
        {
          "name": "stdout",
          "output_type": "stream",
          "text": [
            "Reading chunk 1...\n",
            "Reading chunk 2...\n",
            "Reading chunk 3...\n",
            "Reading chunk 4...\n",
            "Reading chunk 5...\n",
            "Preprocessing complete. Data ready for modeling.\n"
          ]
        }
      ],
      "source": [
        "# Google Colab-compatible: Preprocessing Large CSV File in Chunks\n",
        "\n",
        "import pandas as pd\n",
        "import numpy as np\n",
        "from sklearn.preprocessing import LabelEncoder, MinMaxScaler\n",
        "from sklearn.model_selection import train_test_split\n",
        "\n",
        "# Set file path (you can use your actual file path here)\n",
        "file_path = '/content/drive/MyDrive/ids/iot23_combined.csv'\n",
        "\n",
        "# Parameters for chunking\n",
        "chunk_size = 100000  # rows per chunk\n",
        "selected_rows = []  # to store preprocessed chunks\n",
        "start_row = 1  # skip header is row 0, so start from row 1\n",
        "rows_to_read = 100000\n",
        "\n",
        "# Loop through chunks\n",
        "for i in range(5):  # example: load first 5 chunks (5 * 100000 = 5 lakh rows)\n",
        "    print(f\"Reading chunk {i+1}...\")\n",
        "    chunk = pd.read_csv(file_path, skiprows=range(1, start_row), nrows=rows_to_read)\n",
        "\n",
        "    # Fill missing values instead of dropping\n",
        "    chunk.fillna(-1, inplace=True)  # replace missing values with -1\n",
        "\n",
        "    # Encode categorical columns\n",
        "    for col in chunk.select_dtypes(include='object').columns:\n",
        "        chunk[col] = chunk[col].astype(str)  # ensure string format\n",
        "        chunk[col] = LabelEncoder().fit_transform(chunk[col])\n",
        "\n",
        "    # Remove duplicates if any\n",
        "    chunk.drop_duplicates(inplace=True)\n",
        "\n",
        "    # Combine the chunk into the full list\n",
        "    selected_rows.append(chunk)\n",
        "    start_row += rows_to_read\n",
        "\n",
        "# Combine all processed chunks into one DataFrame\n",
        "df = pd.concat(selected_rows, ignore_index=True)\n",
        "\n",
        "# Drop irrelevant or redundant columns if any (example shown)\n",
        "drop_cols = ['Unnamed: 0'] if 'Unnamed: 0' in df.columns else []\n",
        "df.drop(columns=drop_cols, inplace=True)\n",
        "\n",
        "# Feature selection: Remove highly correlated features\n",
        "corr_matrix = df.corr().abs()\n",
        "upper = corr_matrix.where(np.triu(np.ones(corr_matrix.shape), k=1).astype(bool))\n",
        "to_drop = [column for column in upper.columns if any(upper[column] > 0.85)]\n",
        "df.drop(columns=to_drop, inplace=True)\n",
        "\n",
        "# Normalize numerical features\n",
        "scaler = MinMaxScaler()\n",
        "df_scaled = pd.DataFrame(scaler.fit_transform(df), columns=df.columns)\n",
        "\n",
        "# Ready for model training\n",
        "y = df_scaled['label']  # assuming 'label' is the target\n",
        "X = df_scaled.drop(columns=['label'])\n",
        "\n",
        "X_train, X_test, y_train, y_test = train_test_split(X, y, test_size=0.2, random_state=42)\n",
        "\n",
        "print(\"Preprocessing complete. Data ready for modeling.\")\n"
      ]
    },
    {
      "cell_type": "code",
      "execution_count": null,
      "metadata": {
        "id": "tp7M6QTjanAd"
      },
      "outputs": [],
      "source": [
        "df_scaled.to_csv('cleaned_chunk.csv', index=False) # Save the processed data to cleaned_chunk.csv"
      ]
    },
    {
      "cell_type": "code",
      "execution_count": null,
      "metadata": {
        "colab": {
          "base_uri": "https://localhost:8080/"
        },
        "id": "ITJTmaeIaLDn",
        "outputId": "16af6d7c-78e4-4a9f-ed25-2ac87bcadb0a"
      },
      "outputs": [
        {
          "name": "stdout",
          "output_type": "stream",
          "text": [
            "Total rows: 500000\n",
            "         ts  id.orig_h  duration    orig_bytes    resp_bytes  missed_bytes  \\\n",
            "0  0.402095   0.427419  0.000013  1.323686e-08  2.971624e-09           0.0   \n",
            "1  0.402095   0.427419  0.000013  4.632901e-07  9.271466e-07           0.0   \n",
            "2  0.402084   0.427419  0.004890  1.995192e-04  2.971624e-09           0.0   \n",
            "3  0.402102   0.427419  0.000016  6.486061e-07  1.456096e-07           0.0   \n",
            "4  0.402105   0.427419  0.000014  6.486061e-07  1.456096e-07           0.0   \n",
            "\n",
            "   label  proto_icmp  proto_tcp  conn_state_OTH  ...  conn_state_RSTOS0  \\\n",
            "0    0.0         0.0        1.0             0.0  ...                0.0   \n",
            "1    0.0         0.0        0.0             0.0  ...                0.0   \n",
            "2    0.0         0.0        0.0             0.0  ...                0.0   \n",
            "3    0.0         0.0        0.0             0.0  ...                0.0   \n",
            "4    0.0         0.0        0.0             0.0  ...                0.0   \n",
            "\n",
            "   conn_state_RSTR  conn_state_RSTRH  conn_state_S0  conn_state_S1  \\\n",
            "0              0.0               0.0            0.0            0.0   \n",
            "1              0.0               0.0            0.0            0.0   \n",
            "2              0.0               0.0            1.0            0.0   \n",
            "3              0.0               0.0            0.0            0.0   \n",
            "4              0.0               0.0            0.0            0.0   \n",
            "\n",
            "   conn_state_S2  conn_state_S3  conn_state_SF  conn_state_SH  conn_state_SHR  \n",
            "0            0.0            0.0            1.0            0.0             0.0  \n",
            "1            0.0            0.0            1.0            0.0             0.0  \n",
            "2            0.0            0.0            0.0            0.0             0.0  \n",
            "3            0.0            0.0            1.0            0.0             0.0  \n",
            "4            0.0            0.0            1.0            0.0             0.0  \n",
            "\n",
            "[5 rows x 22 columns]\n"
          ]
        }
      ],
      "source": [
        "import pandas as pd\n",
        "\n",
        "# Load the preprocessed 5 lakh dataset\n",
        "df = pd.read_csv('cleaned_chunk.csv')  # Change to your actual file name\n",
        "\n",
        "# Check number of rows\n",
        "print(f\"Total rows: {df.shape[0]}\")\n",
        "\n",
        "# Preview data\n",
        "print(df.head())"
      ]
    },
    {
      "cell_type": "code",
      "execution_count": null,
      "metadata": {
        "id": "3eon9E9-bb3B"
      },
      "outputs": [],
      "source": []
    },
    {
      "cell_type": "code",
      "execution_count": null,
      "metadata": {
        "colab": {
          "base_uri": "https://localhost:8080/"
        },
        "id": "q90McLzoXi6P",
        "outputId": "2b64cca2-4458-4a28-87a3-19a9587f11cb"
      },
      "outputs": [
        {
          "name": "stdout",
          "output_type": "stream",
          "text": [
            "Total instances: 500000\n",
            "Total features: 22\n"
          ]
        }
      ],
      "source": [
        "# Total number of rows and columns after preprocessing\n",
        "print(f\"Total instances: {df.shape[0]}\")\n",
        "print(f\"Total features: {df.shape[1]}\")"
      ]
    },
    {
      "cell_type": "markdown",
      "metadata": {
        "id": "3nf0skHQMJF7"
      },
      "source": [
        "WITHOUT NORMALIZATION AND FEATURE **SELECTION**"
      ]
    },
    {
      "cell_type": "code",
      "execution_count": null,
      "metadata": {
        "colab": {
          "base_uri": "https://localhost:8080/"
        },
        "id": "2ltkw_hXcbVA",
        "outputId": "c17ac986-3855-434c-89e6-1bba98a2f93e"
      },
      "outputs": [
        {
          "name": "stdout",
          "output_type": "stream",
          "text": [
            "Confusion Matrix:\n",
            " [[41114  5448]\n",
            " [   18 53420]]\n",
            "\n",
            "Classification Report:\n",
            "               precision    recall  f1-score   support\n",
            "\n",
            "           0       1.00      0.88      0.94     46562\n",
            "           1       0.91      1.00      0.95     53438\n",
            "\n",
            "    accuracy                           0.95    100000\n",
            "   macro avg       0.95      0.94      0.94    100000\n",
            "weighted avg       0.95      0.95      0.94    100000\n",
            "\n"
          ]
        }
      ],
      "source": [
        "import pandas as pd\n",
        "import numpy as np\n",
        "from sklearn.model_selection import train_test_split\n",
        "from sklearn.ensemble import RandomForestClassifier\n",
        "from sklearn.metrics import classification_report, confusion_matrix\n",
        "\n",
        "# Split features and label\n",
        "X = df.drop('label', axis=1)\n",
        "y = df['label']\n",
        "\n",
        "# Convert the target variable to discrete values if necessary\n",
        "# For example, if 'label' contains continuous values between 0 and 1,\n",
        "# you can threshold it to create binary classes:\n",
        "y = (y > 0.5).astype(int)  # Convert to 1 if > 0.5, else 0\n",
        "\n",
        "X_train, X_test, y_train, y_test = train_test_split(\n",
        "    X, y, test_size=0.2, random_state=42, stratify=y\n",
        ")\n",
        "rf_model = RandomForestClassifier(n_estimators=100, random_state=42)\n",
        "rf_model.fit(X_train, y_train)\n",
        "y_pred = rf_model.predict(X_test)\n",
        "\n",
        "# Evaluation\n",
        "print(\"Confusion Matrix:\\n\", confusion_matrix(y_test, y_pred))\n",
        "print(\"\\nClassification Report:\\n\", classification_report(y_test, y_pred))"
      ]
    },
    {
      "cell_type": "code",
      "execution_count": null,
      "metadata": {
        "colab": {
          "base_uri": "https://localhost:8080/",
          "height": 564
        },
        "id": "XQarg3pBGVGb",
        "outputId": "b7f80dbb-b256-4e0c-aa5f-490a7479151b"
      },
      "outputs": [
        {
          "data": {
            "image/png": "[encoded data removed]",
            "text/plain": [
              "<Figure size 1000x600 with 1 Axes>"
            ]
          },
          "metadata": {},
          "output_type": "display_data"
        }
      ],
      "source": [
        "import matplotlib.pyplot as plt\n",
        "import seaborn as sns\n",
        "# Get feature importance\n",
        "importances = rf_model.feature_importances_\n",
        "features = X.columns\n",
        "feat_importance_df = pd.DataFrame({'Feature': features, 'Importance': importances})\n",
        "feat_importance_df = feat_importance_df.sort_values(by='Importance', ascending=False)\n",
        "# Plot top 20\n",
        "plt.figure(figsize=(10,6))\n",
        "sns.barplot(x='Importance', y='Feature', data=feat_importance_df.head(20))\n",
        "plt.title('Top 20 Feature Importances from Random Forest')\n",
        "plt.show()"
      ]
    },
    {
      "cell_type": "code",
      "execution_count": null,
      "metadata": {
        "colab": {
          "base_uri": "https://localhost:8080/"
        },
        "id": "r3asjreKAyww",
        "outputId": "ebcc464e-40ff-4c4c-c425-f390570d4f62"
      },
      "outputs": [
        {
          "name": "stderr",
          "output_type": "stream",
          "text": [
            "/usr/local/lib/python3.11/dist-packages/xgboost/core.py:158: UserWarning: [10:03:04] WARNING: /workspace/src/learner.cc:740: \n",
            "Parameters: { \"use_label_encoder\" } are not used.\n",
            "\n",
            "  warnings.warn(smsg, UserWarning)\n"
          ]
        },
        {
          "name": "stdout",
          "output_type": "stream",
          "text": [
            "Accuracy: 0.99835\n",
            "Classification Report:\n",
            "               precision    recall  f1-score   support\n",
            "\n",
            "           0       1.00      1.00      1.00     82906\n",
            "           1       0.99      1.00      1.00     17094\n",
            "\n",
            "    accuracy                           1.00    100000\n",
            "   macro avg       1.00      1.00      1.00    100000\n",
            "weighted avg       1.00      1.00      1.00    100000\n",
            "\n"
          ]
        }
      ],
      "source": [
        "import pandas as pd\n",
        "from sklearn.model_selection import train_test_split\n",
        "from sklearn.metrics import classification_report, accuracy_score\n",
        "import xgboost as xgb\n",
        "\n",
        "# Assuming 'df' is your DataFrame containing the data\n",
        "X = df.drop('label', axis=1)  # Features\n",
        "y = df['label']  # Target variable\n",
        "\n",
        "# Convert target to int if necessary\n",
        "y = y.astype(int) # Make sure y contains integer class labels\n",
        "\n",
        "# Split data into training and testing sets\n",
        "X_train, X_test, y_train, y_test = train_test_split(X, y, test_size=0.2, random_state=42)\n",
        "\n",
        "# Initialize and train XGBoost model\n",
        "xgb_model = xgb.XGBClassifier(use_label_encoder=False, eval_metric='mlogloss')\n",
        "xgb_model.fit(X_train, y_train)\n",
        "\n",
        "# Make predictions on the test set\n",
        "y_pred = xgb_model.predict(X_test)\n",
        "\n",
        "# Evaluate the model\n",
        "print(\"Accuracy:\", accuracy_score(y_test, y_pred))\n",
        "print(\"Classification Report:\\n\", classification_report(y_test, y_pred))"
      ]
    },
    {
      "cell_type": "code",
      "execution_count": null,
      "metadata": {
        "colab": {
          "base_uri": "https://localhost:8080/"
        },
        "id": "0BO6ILdvQRTJ",
        "outputId": "58ac70c4-b5e6-4208-c681-2c40e45dbad3"
      },
      "outputs": [
        {
          "name": "stdout",
          "output_type": "stream",
          "text": [
            "Accuracy: 0.79873\n",
            "Classification Report:\n",
            "               precision    recall  f1-score   support\n",
            "\n",
            "           0       1.00      0.57      0.72     46638\n",
            "           1       0.73      1.00      0.84     53362\n",
            "\n",
            "    accuracy                           0.80    100000\n",
            "   macro avg       0.86      0.78      0.78    100000\n",
            "weighted avg       0.85      0.80      0.79    100000\n",
            "\n"
          ]
        }
      ],
      "source": [
        "import pandas as pd\n",
        "from sklearn.model_selection import train_test_split\n",
        "from sklearn.linear_model import LogisticRegression\n",
        "from sklearn.metrics import classification_report, accuracy_score\n",
        "\n",
        "# Step 1: Load your cleaned 5 lakh dataset (update path if needed)\n",
        "df = pd.read_csv('cleaned_chunk.csv')\n",
        "\n",
        "# Step 2: Separate features and label\n",
        "X = df.drop(columns=['label'])  # Assuming 'label' is your target\n",
        "y = df['label']\n",
        "\n",
        "# Convert y to discrete values if it's continuous (important for Logistic Regression)\n",
        "y = (y > 0.5).astype(int)  # Values above 0.5 become 1, others become 0\n",
        "# Adjust the threshold (0.5) as needed for your problem\n",
        "\n",
        "# Step 3: Split the dataset\n",
        "X_train, X_test, y_train, y_test = train_test_split(X, y, test_size=0.2, random_state=42)\n",
        "\n",
        "# Step 4: Train Logistic Regression model (no scaling)\n",
        "logreg_model = LogisticRegression(max_iter=1000)  # Increase max_iter if needed\n",
        "logreg_model.fit(X_train, y_train)  # Using unscaled data\n",
        "\n",
        "# Step 5: Predict and Evaluate\n",
        "y_pred = logreg_model.predict(X_test)  # Using unscaled data\n",
        "print(\"Accuracy:\", accuracy_score(y_test, y_pred))\n",
        "print(\"Classification Report:\\n\", classification_report(y_test, y_pred))"
      ]
    },
    {
      "cell_type": "code",
      "execution_count": null,
      "metadata": {
        "colab": {
          "base_uri": "https://localhost:8080/",
          "height": 507
        },
        "id": "xo3PXvRSP8GT",
        "outputId": "df1df3cb-4d69-4c28-80fb-48b14bb89381"
      },
      "outputs": [
        {
          "data": {
            "image/png": "[encoded data removed]",
            "text/plain": [
              "<Figure size 800x500 with 1 Axes>"
            ]
          },
          "metadata": {},
          "output_type": "display_data"
        }
      ],
      "source": [
        "import matplotlib.pyplot as plt\n",
        "\n",
        "# Your accuracy results\n",
        "models = ['Random Forest', 'XGBoost', 'Logistic Regression']\n",
        "accuracy = [95, 99.83, 79.87]  # Replace if slightly different\n",
        "\n",
        "plt.figure(figsize=(8, 5))\n",
        "bars = plt.bar(models, accuracy, color=['royalblue', 'darkorange', 'green'])\n",
        "\n",
        "# Add values on top of bars\n",
        "for bar in bars:\n",
        "    yval = bar.get_height()\n",
        "    plt.text(bar.get_x() + bar.get_width()/2.0, yval + 0.5, f'{yval}%', ha='center', va='bottom', fontsize=10)\n",
        "\n",
        "plt.title('Model Accuracy (Without Normalization & Feature Selection)', fontsize=14)\n",
        "plt.ylabel('Accuracy (%)')\n",
        "plt.ylim(0, 105)\n",
        "plt.grid(axis='y', linestyle='--', alpha=0.5)\n",
        "plt.tight_layout()\n",
        "plt.show()"
      ]
    },
    {
      "cell_type": "markdown",
      "metadata": {
        "id": "jwmDt8MYP1tT"
      },
      "source": [
        "WITH NORMALIZATION WITHOUT FEATURE **SELECTION**"
      ]
    },
    {
      "cell_type": "markdown",
      "metadata": {
        "id": "ocC7UsOxFG7f"
      },
      "source": [
        "MIN MAX **SCALING**"
      ]
    },
    {
      "cell_type": "code",
      "execution_count": null,
      "metadata": {
        "colab": {
          "base_uri": "https://localhost:8080/"
        },
        "id": "tiHW720vOd5r",
        "outputId": "6c8d545c-a985-4d6f-a954-9cabf1b3620d"
      },
      "outputs": [
        {
          "name": "stdout",
          "output_type": "stream",
          "text": [
            "Accuracy: 0.99831\n",
            "Classification Report:\n",
            "               precision    recall  f1-score   support\n",
            "\n",
            "           0       1.00      1.00      1.00     82906\n",
            "           1       1.00      0.99      1.00     17094\n",
            "\n",
            "    accuracy                           1.00    100000\n",
            "   macro avg       1.00      1.00      1.00    100000\n",
            "weighted avg       1.00      1.00      1.00    100000\n",
            "\n"
          ]
        }
      ],
      "source": [
        "# Step 1: Import libraries\n",
        "from sklearn.preprocessing import MinMaxScaler\n",
        "from sklearn.model_selection import train_test_split\n",
        "from sklearn.ensemble import RandomForestClassifier\n",
        "from sklearn.metrics import accuracy_score, classification_report\n",
        "\n",
        "# Step 2: Separate features and labels\n",
        "X = df.drop('label', axis=1)\n",
        "y = df['label']\n",
        "\n",
        "# ✅ Make sure y is categorical\n",
        "y = y.astype('int')\n",
        "\n",
        "# Step 3: Apply MinMax scaling only to features\n",
        "scaler = MinMaxScaler()\n",
        "X_scaled = scaler.fit_transform(X)\n",
        "\n",
        "# Step 4: Train-test split\n",
        "X_train, X_test, y_train, y_test = train_test_split(X_scaled, y, test_size=0.2, random_state=42)\n",
        "\n",
        "# Step 5: Train Random Forest Classifier\n",
        "rf_model = RandomForestClassifier(n_estimators=100, random_state=42)\n",
        "rf_model.fit(X_train, y_train)\n",
        "\n",
        "# Step 6: Predict and evaluate\n",
        "y_pred = rf_model.predict(X_test)\n",
        "print(\"Accuracy:\", accuracy_score(y_test, y_pred))\n",
        "print(\"Classification Report:\\n\", classification_report(y_test, y_pred))\n"
      ]
    },
    {
      "cell_type": "code",
      "execution_count": null,
      "metadata": {
        "colab": {
          "base_uri": "https://localhost:8080/"
        },
        "id": "u-Ai8MjANIF0",
        "outputId": "4e05a684-a3b4-4d42-fabc-07adec9672fc"
      },
      "outputs": [
        {
          "name": "stderr",
          "output_type": "stream",
          "text": [
            "/usr/local/lib/python3.11/dist-packages/xgboost/core.py:158: UserWarning: [10:05:04] WARNING: /workspace/src/learner.cc:740: \n",
            "Parameters: { \"use_label_encoder\" } are not used.\n",
            "\n",
            "  warnings.warn(smsg, UserWarning)\n"
          ]
        },
        {
          "name": "stdout",
          "output_type": "stream",
          "text": [
            "Accuracy: 0.94629\n",
            "Classification Report:\n",
            "               precision    recall  f1-score   support\n",
            "\n",
            "           0       1.00      0.89      0.94     46638\n",
            "           1       0.91      1.00      0.95     53362\n",
            "\n",
            "    accuracy                           0.95    100000\n",
            "   macro avg       0.95      0.94      0.95    100000\n",
            "weighted avg       0.95      0.95      0.95    100000\n",
            "\n"
          ]
        }
      ],
      "source": [
        "import pandas as pd\n",
        "from sklearn.model_selection import train_test_split\n",
        "from sklearn.preprocessing import MinMaxScaler\n",
        "import xgboost as xgb\n",
        "from sklearn.metrics import classification_report, accuracy_score\n",
        "\n",
        "# Step 1: Load your cleaned 5 lakh dataset (update path if needed)\n",
        "df = pd.read_csv('cleaned_chunk.csv')\n",
        "\n",
        "# Step 2: Separate features and label\n",
        "X = df.drop(columns=['label'])  # Assuming 'label' is your target\n",
        "y = df['label']\n",
        "\n",
        "# Convert y to discrete values if it's continuous (important for XGBoost)\n",
        "y = (y > 0.5).astype(int)  # Values above 0.5 become 1, others become 0\n",
        "# Adjust the threshold (0.5) as needed for your problem\n",
        "\n",
        "# Step 3: Split the dataset\n",
        "X_train, X_test, y_train, y_test = train_test_split(X, y, test_size=0.2, random_state=42)\n",
        "\n",
        "# Step 4: Apply MinMaxScaler\n",
        "scaler = MinMaxScaler()\n",
        "X_train_scaled = scaler.fit_transform(X_train)\n",
        "X_test_scaled = scaler.transform(X_test)\n",
        "\n",
        "# Step 5: Train XGBoost model\n",
        "xgb_model = xgb.XGBClassifier(use_label_encoder=False, eval_metric='mlogloss')\n",
        "xgb_model.fit(X_train_scaled, y_train)\n",
        "\n",
        "# Step 6: Predict and Evaluate\n",
        "y_pred = xgb_model.predict(X_test_scaled)\n",
        "print(\"Accuracy:\", accuracy_score(y_test, y_pred))\n",
        "print(\"Classification Report:\\n\", classification_report(y_test, y_pred))"
      ]
    },
    {
      "cell_type": "code",
      "execution_count": null,
      "metadata": {
        "colab": {
          "base_uri": "https://localhost:8080/"
        },
        "id": "OisjlwJUOuTw",
        "outputId": "02b36c14-5a1a-45cc-860e-4d7f06bdccf6"
      },
      "outputs": [
        {
          "name": "stdout",
          "output_type": "stream",
          "text": [
            "Accuracy: 0.79873\n",
            "Classification Report:\n",
            "               precision    recall  f1-score   support\n",
            "\n",
            "           0       1.00      0.57      0.72     46638\n",
            "           1       0.73      1.00      0.84     53362\n",
            "\n",
            "    accuracy                           0.80    100000\n",
            "   macro avg       0.86      0.78      0.78    100000\n",
            "weighted avg       0.85      0.80      0.79    100000\n",
            "\n"
          ]
        }
      ],
      "source": [
        "import pandas as pd\n",
        "from sklearn.model_selection import train_test_split\n",
        "from sklearn.preprocessing import MinMaxScaler\n",
        "from sklearn.linear_model import LogisticRegression\n",
        "from sklearn.metrics import classification_report, accuracy_score\n",
        "\n",
        "# Step 1: Load your cleaned 5 lakh dataset (update path if needed)\n",
        "df = pd.read_csv('cleaned_chunk.csv')\n",
        "\n",
        "# Step 2: Separate features and label\n",
        "X = df.drop(columns=['label'])  # Assuming 'label' is your target\n",
        "y = df['label']\n",
        "\n",
        "# Convert y to discrete values if it's continuous (important for Logistic Regression)\n",
        "y = (y > 0.5).astype(int)  # Values above 0.5 become 1, others become 0\n",
        "# Adjust the threshold (0.5) as needed for your problem\n",
        "\n",
        "# Step 3: Split the dataset\n",
        "X_train, X_test, y_train, y_test = train_test_split(X, y, test_size=0.2, random_state=42)\n",
        "\n",
        "# Step 4: Apply MinMaxScaler\n",
        "scaler = MinMaxScaler()\n",
        "X_train_scaled = scaler.fit_transform(X_train)\n",
        "X_test_scaled = scaler.transform(X_test)\n",
        "\n",
        "# Step 5: Train Logistic Regression model\n",
        "logreg_model = LogisticRegression(max_iter=1000)  # Increase max_iter if needed\n",
        "logreg_model.fit(X_train_scaled, y_train)\n",
        "\n",
        "# Step 6: Predict and Evaluate\n",
        "y_pred = logreg_model.predict(X_test_scaled)\n",
        "print(\"Accuracy:\", accuracy_score(y_test, y_pred))\n",
        "print(\"Classification Report:\\n\", classification_report(y_test, y_pred))"
      ]
    },
    {
      "cell_type": "code",
      "execution_count": null,
      "metadata": {
        "colab": {
          "base_uri": "https://localhost:8080/",
          "height": 507
        },
        "id": "nrDOdoFaR6y9",
        "outputId": "85c986da-2aa5-4fe5-ee20-a41ee2fe61c6"
      },
      "outputs": [
        {
          "data": {
            "image/png": "[encoded data removed]",
            "text/plain": [
              "<Figure size 800x500 with 1 Axes>"
            ]
          },
          "metadata": {},
          "output_type": "display_data"
        }
      ],
      "source": [
        "import matplotlib.pyplot as plt\n",
        "\n",
        "# Accuracy values (update if needed)\n",
        "models = ['Random Forest', 'XGBoost', 'Logistic Regression']\n",
        "accuracy = [99.83, 94.62, 79.87]\n",
        "\n",
        "plt.figure(figsize=(8, 5))\n",
        "bars = plt.bar(models, accuracy, color=['royalblue', 'darkorange', 'green'])\n",
        "\n",
        "# Add accuracy values on top\n",
        "for bar in bars:\n",
        "    yval = bar.get_height()\n",
        "    plt.text(bar.get_x() + bar.get_width()/2.0, yval + 0.5, f'{yval}%', ha='center', va='bottom', fontsize=10)\n",
        "\n",
        "plt.title('Model Accuracy (With Min-Max Normalization, No Feature Selection)', fontsize=14)\n",
        "plt.ylabel('Accuracy (%)')\n",
        "plt.ylim(0, 105)\n",
        "plt.grid(axis='y', linestyle='--', alpha=0.5)\n",
        "plt.tight_layout()\n",
        "plt.show()"
      ]
    },
    {
      "cell_type": "markdown",
      "metadata": {
        "id": "Ued3QxjXFMni"
      },
      "source": [
        "**ROBUST SCALER**"
      ]
    },
    {
      "cell_type": "code",
      "execution_count": null,
      "metadata": {
        "colab": {
          "base_uri": "https://localhost:8080/"
        },
        "id": "3TMiWjwkGBA1",
        "outputId": "1aef9c56-c5ae-4ee7-929b-e6d9d102fcd9"
      },
      "outputs": [
        {
          "name": "stdout",
          "output_type": "stream",
          "text": [
            "Accuracy: 0.96108\n",
            "Classification Report:\n",
            "               precision    recall  f1-score   support\n",
            "\n",
            "           0       0.96      0.95      0.96     46638\n",
            "           1       0.96      0.97      0.96     53362\n",
            "\n",
            "    accuracy                           0.96    100000\n",
            "   macro avg       0.96      0.96      0.96    100000\n",
            "weighted avg       0.96      0.96      0.96    100000\n",
            "\n"
          ]
        }
      ],
      "source": [
        "import pandas as pd\n",
        "from sklearn.model_selection import train_test_split\n",
        "from sklearn.preprocessing import RobustScaler\n",
        "from sklearn.ensemble import RandomForestClassifier\n",
        "from sklearn.metrics import classification_report, accuracy_score\n",
        "\n",
        "# Step 1: Load your cleaned 5 lakh dataset (update path if needed)\n",
        "df = pd.read_csv('cleaned_chunk.csv')\n",
        "\n",
        "# Step 2: Separate features and label\n",
        "X = df.drop(columns=['label'])  # Assuming 'label' is your target\n",
        "y = df['label']\n",
        "\n",
        "# Convert y to discrete values (if it's continuous)\n",
        "# Assuming you want to create binary classes based on a threshold:\n",
        "y = (y > 0.5).astype(int)  # Values above 0.5 become 1, others become 0\n",
        "# Adjust the threshold (0.5) as needed for your specific problem\n",
        "\n",
        "# Step 3: Split the dataset\n",
        "X_train, X_test, y_train, y_test = train_test_split(X, y, test_size=0.2, random_state=42)\n",
        "\n",
        "# Step 4: Apply RobustScaler\n",
        "scaler = RobustScaler()\n",
        "X_train_scaled = scaler.fit_transform(X_train)\n",
        "X_test_scaled = scaler.transform(X_test)\n",
        "\n",
        "# Step 5: Train Random Forest\n",
        "rf_model = RandomForestClassifier(n_estimators=100, random_state=42)\n",
        "rf_model.fit(X_train_scaled, y_train)\n",
        "\n",
        "# Step 6: Predict and Evaluate\n",
        "y_pred = rf_model.predict(X_test_scaled)\n",
        "print(\"Accuracy:\", accuracy_score(y_test, y_pred))\n",
        "print(\"Classification Report:\\n\", classification_report(y_test, y_pred))"
      ]
    },
    {
      "cell_type": "code",
      "execution_count": null,
      "metadata": {
        "colab": {
          "base_uri": "https://localhost:8080/"
        },
        "id": "RD_tINOuNj7n",
        "outputId": "59bd57e5-d2ce-4dac-9f75-6fbcef9cf5ee"
      },
      "outputs": [
        {
          "name": "stderr",
          "output_type": "stream",
          "text": [
            "/usr/local/lib/python3.11/dist-packages/xgboost/core.py:158: UserWarning: [10:18:14] WARNING: /workspace/src/learner.cc:740: \n",
            "Parameters: { \"use_label_encoder\" } are not used.\n",
            "\n",
            "  warnings.warn(smsg, UserWarning)\n"
          ]
        },
        {
          "name": "stdout",
          "output_type": "stream",
          "text": [
            "Accuracy: 0.94628\n",
            "Classification Report:\n",
            "               precision    recall  f1-score   support\n",
            "\n",
            "           0       1.00      0.89      0.94     46638\n",
            "           1       0.91      1.00      0.95     53362\n",
            "\n",
            "    accuracy                           0.95    100000\n",
            "   macro avg       0.95      0.94      0.95    100000\n",
            "weighted avg       0.95      0.95      0.95    100000\n",
            "\n"
          ]
        }
      ],
      "source": [
        "import pandas as pd\n",
        "from sklearn.model_selection import train_test_split\n",
        "from sklearn.preprocessing import RobustScaler\n",
        "import xgboost as xgb\n",
        "from sklearn.metrics import classification_report, accuracy_score\n",
        "\n",
        "# Step 1: Load your cleaned 5 lakh dataset (update path if needed)\n",
        "df = pd.read_csv('cleaned_chunk.csv')\n",
        "\n",
        "# Step 2: Separate features and label\n",
        "X = df.drop(columns=['label'])  # Assuming 'label' is your target\n",
        "y = df['label']\n",
        "\n",
        "# Convert y to discrete values if it's continuous (important for XGBoost)\n",
        "y = (y > 0.5).astype(int)  # Values above 0.5 become 1, others become 0\n",
        "# Adjust the threshold (0.5) as needed for your problem\n",
        "\n",
        "# Step 3: Split the dataset\n",
        "X_train, X_test, y_train, y_test = train_test_split(X, y, test_size=0.2, random_state=42)\n",
        "\n",
        "# Step 4: Apply RobustScaler\n",
        "scaler = RobustScaler()\n",
        "X_train_scaled = scaler.fit_transform(X_train)\n",
        "X_test_scaled = scaler.transform(X_test)\n",
        "\n",
        "# Step 5: Train XGBoost model\n",
        "xgb_model = xgb.XGBClassifier(use_label_encoder=False, eval_metric='mlogloss')\n",
        "xgb_model.fit(X_train_scaled, y_train)\n",
        "\n",
        "# Step 6: Predict and Evaluate\n",
        "y_pred = xgb_model.predict(X_test_scaled)\n",
        "print(\"Accuracy:\", accuracy_score(y_test, y_pred))\n",
        "print(\"Classification Report:\\n\", classification_report(y_test, y_pred))"
      ]
    },
    {
      "cell_type": "code",
      "execution_count": null,
      "metadata": {
        "colab": {
          "base_uri": "https://localhost:8080/"
        },
        "id": "G9WjLxe7SI9P",
        "outputId": "4f4af3d3-0426-42a1-9d36-81bde5a6524a"
      },
      "outputs": [
        {
          "name": "stdout",
          "output_type": "stream",
          "text": [
            "Accuracy: 0.79873\n",
            "Classification Report:\n",
            "               precision    recall  f1-score   support\n",
            "\n",
            "           0       1.00      0.57      0.72     46638\n",
            "           1       0.73      1.00      0.84     53362\n",
            "\n",
            "    accuracy                           0.80    100000\n",
            "   macro avg       0.86      0.78      0.78    100000\n",
            "weighted avg       0.85      0.80      0.79    100000\n",
            "\n"
          ]
        }
      ],
      "source": [
        "import pandas as pd\n",
        "from sklearn.model_selection import train_test_split\n",
        "from sklearn.preprocessing import RobustScaler\n",
        "from sklearn.linear_model import LogisticRegression\n",
        "from sklearn.metrics import classification_report, accuracy_score\n",
        "\n",
        "# Step 1: Load your cleaned 5 lakh dataset (update path if needed)\n",
        "df = pd.read_csv('cleaned_chunk.csv')\n",
        "\n",
        "# Step 2: Separate features and label\n",
        "X = df.drop(columns=['label'])  # Assuming 'label' is your target\n",
        "y = df['label']\n",
        "\n",
        "# Convert y to discrete values if it's continuous (important for Logistic Regression)\n",
        "y = (y > 0.5).astype(int)  # Values above 0.5 become 1, others become 0\n",
        "# Adjust the threshold (0.5) as needed for your problem\n",
        "\n",
        "# Step 3: Split the dataset\n",
        "X_train, X_test, y_train, y_test = train_test_split(X, y, test_size=0.2, random_state=42)\n",
        "\n",
        "# Step 4: Apply RobustScaler\n",
        "scaler = RobustScaler()\n",
        "X_train_scaled = scaler.fit_transform(X_train)\n",
        "X_test_scaled = scaler.transform(X_test)\n",
        "\n",
        "# Step 5: Train Logistic Regression model\n",
        "logreg_model = LogisticRegression(max_iter=1000)  # Increase max_iter if needed\n",
        "logreg_model.fit(X_train_scaled, y_train)\n",
        "\n",
        "# Step 6: Predict and Evaluate\n",
        "y_pred = logreg_model.predict(X_test_scaled)\n",
        "print(\"Accuracy:\", accuracy_score(y_test, y_pred))\n",
        "print(\"Classification Report:\\n\", classification_report(y_test, y_pred))"
      ]
    },
    {
      "cell_type": "code",
      "execution_count": null,
      "metadata": {
        "colab": {
          "base_uri": "https://localhost:8080/",
          "height": 507
        },
        "id": "Cq2klFz4hfRv",
        "outputId": "db490eab-149c-4ba7-92e2-2252669d057b"
      },
      "outputs": [
        {
          "data": {
            "image/png": "[encoded data removed]",
            "text/plain": [
              "<Figure size 800x500 with 1 Axes>"
            ]
          },
          "metadata": {},
          "output_type": "display_data"
        }
      ],
      "source": [
        "import matplotlib.pyplot as plt\n",
        "\n",
        "# Accuracy values (update if needed)\n",
        "models = ['Random Forest', 'XGBoost', 'Logistic Regression']\n",
        "accuracy = [96.10, 95, 80]\n",
        "\n",
        "plt.figure(figsize=(8, 5))\n",
        "bars = plt.bar(models, accuracy, color=['royalblue', 'darkorange', 'green'])\n",
        "\n",
        "# Add accuracy values on top\n",
        "for bar in bars:\n",
        "    yval = bar.get_height()\n",
        "    plt.text(bar.get_x() + bar.get_width()/2.0, yval + 0.5, f'{yval}%', ha='center', va='bottom', fontsize=10)\n",
        "\n",
        "plt.title('Model Accuracy (With Robust Scaler, No Feature Selection)', fontsize=14)\n",
        "plt.ylabel('Accuracy (%)')\n",
        "plt.ylim(0, 105)\n",
        "plt.grid(axis='y', linestyle='--', alpha=0.5)\n",
        "plt.tight_layout()\n",
        "plt.show()"
      ]
    },
    {
      "cell_type": "markdown",
      "metadata": {
        "id": "HL93mrlsaCBK"
      },
      "source": [
        "**NO NORMALIZATION AND WITH FEATURE SELECTION(FILTER METHODS)**"
      ]
    },
    {
      "cell_type": "code",
      "execution_count": null,
      "metadata": {
        "colab": {
          "base_uri": "https://localhost:8080/"
        },
        "id": "-OaInpFsZ8vr",
        "outputId": "4591a910-2049-4e6a-8f50-e392e879744c"
      },
      "outputs": [
        {
          "name": "stdout",
          "output_type": "stream",
          "text": [
            "Random Forest - Accuracy: 0.94634\n",
            "Random Forest - Classification Report:\n",
            "               precision    recall  f1-score   support\n",
            "\n",
            "           0       1.00      0.89      0.94     46638\n",
            "           1       0.91      1.00      0.95     53362\n",
            "\n",
            "    accuracy                           0.95    100000\n",
            "   macro avg       0.95      0.94      0.95    100000\n",
            "weighted avg       0.95      0.95      0.95    100000\n",
            "\n"
          ]
        }
      ],
      "source": [
        "import pandas as pd\n",
        "import numpy as np\n",
        "from sklearn.model_selection import train_test_split\n",
        "from sklearn.ensemble import RandomForestClassifier\n",
        "from sklearn.metrics import classification_report, accuracy_score\n",
        "\n",
        "# Load and preprocess data (including feature selection)\n",
        "df = pd.read_csv('cleaned_chunk.csv')\n",
        "corr_matrix = df.drop(columns=['label']).corr().abs()\n",
        "upper = corr_matrix.where(np.triu(np.ones(corr_matrix.shape), k=1).astype(bool))\n",
        "to_drop = [column for column in upper.columns if any(upper[column] > 0.9)]\n",
        "filtered_df = df.drop(columns=to_drop)\n",
        "X = filtered_df.drop(columns=['label'])\n",
        "y = filtered_df['label']\n",
        "y = (y > 0.5).astype(int)  # Convert target to discrete if needed\n",
        "X_train, X_test, y_train, y_test = train_test_split(X, y, test_size=0.2, random_state=42)\n",
        "\n",
        "# Train Random Forest\n",
        "rf_model = RandomForestClassifier(n_estimators=100, random_state=42)\n",
        "rf_model.fit(X_train, y_train)\n",
        "\n",
        "# Predict and evaluate\n",
        "y_pred = rf_model.predict(X_test)\n",
        "print(\"Random Forest - Accuracy:\", accuracy_score(y_test, y_pred))\n",
        "print(\"Random Forest - Classification Report:\\n\", classification_report(y_test, y_pred))"
      ]
    },
    {
      "cell_type": "code",
      "execution_count": null,
      "metadata": {
        "colab": {
          "base_uri": "https://localhost:8080/"
        },
        "id": "_HSTkV4fbBKV",
        "outputId": "761f5494-64be-46eb-a2c2-33562e7626b7"
      },
      "outputs": [
        {
          "name": "stderr",
          "output_type": "stream",
          "text": [
            "/usr/local/lib/python3.11/dist-packages/xgboost/core.py:158: UserWarning: [10:20:21] WARNING: /workspace/src/learner.cc:740: \n",
            "Parameters: { \"use_label_encoder\" } are not used.\n",
            "\n",
            "  warnings.warn(smsg, UserWarning)\n"
          ]
        },
        {
          "name": "stdout",
          "output_type": "stream",
          "text": [
            "XGBoost - Accuracy: 0.94628\n",
            "XGBoost - Classification Report:\n",
            "               precision    recall  f1-score   support\n",
            "\n",
            "           0       1.00      0.89      0.94     46638\n",
            "           1       0.91      1.00      0.95     53362\n",
            "\n",
            "    accuracy                           0.95    100000\n",
            "   macro avg       0.95      0.94      0.95    100000\n",
            "weighted avg       0.95      0.95      0.95    100000\n",
            "\n"
          ]
        }
      ],
      "source": [
        "import pandas as pd\n",
        "import numpy as np\n",
        "from sklearn.model_selection import train_test_split\n",
        "import xgboost as xgb\n",
        "from sklearn.metrics import classification_report, accuracy_score\n",
        "\n",
        "# Load and preprocess data (including feature selection)\n",
        "df = pd.read_csv('cleaned_chunk.csv')\n",
        "corr_matrix = df.drop(columns=['label']).corr().abs()\n",
        "upper = corr_matrix.where(np.triu(np.ones(corr_matrix.shape), k=1).astype(bool))\n",
        "to_drop = [column for column in upper.columns if any(upper[column] > 0.9)]\n",
        "filtered_df = df.drop(columns=to_drop)\n",
        "X = filtered_df.drop(columns=['label'])\n",
        "y = filtered_df['label']\n",
        "y = (y > 0.5).astype(int)  # Convert target to discrete if needed\n",
        "X_train, X_test, y_train, y_test = train_test_split(X, y, test_size=0.2, random_state=42)\n",
        "\n",
        "# Train XGBoost\n",
        "xgb_model = xgb.XGBClassifier(use_label_encoder=False, eval_metric='mlogloss')\n",
        "xgb_model.fit(X_train, y_train)\n",
        "\n",
        "# Predict and evaluate\n",
        "y_pred = xgb_model.predict(X_test)\n",
        "print(\"XGBoost - Accuracy:\", accuracy_score(y_test, y_pred))\n",
        "print(\"XGBoost - Classification Report:\\n\", classification_report(y_test, y_pred))"
      ]
    },
    {
      "cell_type": "code",
      "execution_count": null,
      "metadata": {
        "colab": {
          "base_uri": "https://localhost:8080/"
        },
        "id": "6CsUyhuJkB6C",
        "outputId": "2ed2c06e-dc6d-419f-dd43-1f2873576d00"
      },
      "outputs": [
        {
          "name": "stdout",
          "output_type": "stream",
          "text": [
            "Accuracy: 0.79873\n",
            "Classification Report:\n",
            "               precision    recall  f1-score   support\n",
            "\n",
            "           0       1.00      0.57      0.72     46638\n",
            "           1       0.73      1.00      0.84     53362\n",
            "\n",
            "    accuracy                           0.80    100000\n",
            "   macro avg       0.86      0.78      0.78    100000\n",
            "weighted avg       0.85      0.80      0.79    100000\n",
            "\n"
          ]
        }
      ],
      "source": [
        "import pandas as pd\n",
        "import numpy as np\n",
        "from sklearn.model_selection import train_test_split\n",
        "from sklearn.linear_model import LogisticRegression\n",
        "from sklearn.metrics import classification_report, accuracy_score\n",
        "\n",
        "# 1. Load the dataset\n",
        "df = pd.read_csv('cleaned_chunk.csv')  # Replace with your actual file name\n",
        "\n",
        "# 2. Feature Selection (Correlation)\n",
        "# Remove highly correlated features\n",
        "corr_matrix = df.drop(columns=['label']).corr().abs()  # Exclude target variable\n",
        "upper = corr_matrix.where(np.triu(np.ones(corr_matrix.shape), k=1).astype(bool))\n",
        "to_drop = [column for column in upper.columns if any(upper[column] > 0.9)]  # Adjust threshold if needed\n",
        "filtered_df = df.drop(columns=to_drop)\n",
        "\n",
        "# 3. Separate features and label\n",
        "X = filtered_df.drop(columns=['label'])\n",
        "y = filtered_df['label']\n",
        "\n",
        "# Convert target to discrete values if needed\n",
        "y = (y > 0.5).astype(int)  # Adjust threshold if needed\n",
        "\n",
        "# 4. Split the dataset\n",
        "X_train, X_test, y_train, y_test = train_test_split(X, y, test_size=0.2, random_state=42)\n",
        "\n",
        "# 5. Train Logistic Regression model (without normalization)\n",
        "logreg_model = LogisticRegression(max_iter=1000)  # Increase max_iter if needed\n",
        "logreg_model.fit(X_train, y_train)\n",
        "\n",
        "# 6. Predict and Evaluate\n",
        "y_pred = logreg_model.predict(X_test)\n",
        "print(\"Accuracy:\", accuracy_score(y_test, y_pred))\n",
        "print(\"Classification Report:\\n\", classification_report(y_test, y_pred))"
      ]
    },
    {
      "cell_type": "code",
      "execution_count": null,
      "metadata": {
        "colab": {
          "base_uri": "https://localhost:8080/",
          "height": 507
        },
        "id": "H-3W2mqYirkS",
        "outputId": "d1f9bc78-ffa3-489b-b04b-2dcce0ae80eb"
      },
      "outputs": [
        {
          "data": {
            "image/png": "[encoded data removed]",
            "text/plain": [
              "<Figure size 800x500 with 1 Axes>"
            ]
          },
          "metadata": {},
          "output_type": "display_data"
        }
      ],
      "source": [
        "import matplotlib.pyplot as plt\n",
        "\n",
        "# Accuracy values (update if needed)\n",
        "models = ['Random Forest', 'XGBoost' , 'Logistic regression']\n",
        "accuracy = [94.63, 94.62, 79.87]\n",
        "\n",
        "plt.figure(figsize=(8, 5))\n",
        "bars = plt.bar(models, accuracy, color=['royalblue', 'darkorange', 'green'])\n",
        "\n",
        "# Add accuracy values on top\n",
        "for bar in bars:\n",
        "    yval = bar.get_height()\n",
        "    plt.text(bar.get_x() + bar.get_width()/2.0, yval + 0.5, f'{yval}%', ha='center', va='bottom', fontsize=10)\n",
        "\n",
        "plt.title('Model Accuracy (With Min-Max Normalization, No Feature Selection)', fontsize=14)\n",
        "plt.ylabel('Accuracy (%)')\n",
        "plt.ylim(0, 105)\n",
        "plt.grid(axis='y', linestyle='--', alpha=0.5)\n",
        "plt.tight_layout()\n",
        "plt.show()"
      ]
    },
    {
      "cell_type": "markdown",
      "metadata": {
        "id": "qfIbqcAfwso2"
      },
      "source": [
        "**CHI SQUARE METHOD**"
      ]
    },
    {
      "cell_type": "code",
      "execution_count": null,
      "metadata": {
        "colab": {
          "base_uri": "https://localhost:8080/"
        },
        "id": "PFf3WvQbwpII",
        "outputId": "2fa6407d-913d-405a-fe3f-5cf4d2b4cdf5"
      },
      "outputs": [
        {
          "name": "stdout",
          "output_type": "stream",
          "text": [
            "Random Forest - Accuracy: 0.94633\n",
            "Random Forest - Classification Report:\n",
            "               precision    recall  f1-score   support\n",
            "\n",
            "           0       1.00      0.89      0.94     46638\n",
            "           1       0.91      1.00      0.95     53362\n",
            "\n",
            "    accuracy                           0.95    100000\n",
            "   macro avg       0.95      0.94      0.95    100000\n",
            "weighted avg       0.95      0.95      0.95    100000\n",
            "\n"
          ]
        }
      ],
      "source": [
        "import pandas as pd\n",
        "import numpy as np\n",
        "from sklearn.model_selection import train_test_split\n",
        "from sklearn.ensemble import RandomForestClassifier\n",
        "from sklearn.feature_selection import chi2\n",
        "from sklearn.metrics import classification_report, accuracy_score\n",
        "\n",
        "# Load the dataset\n",
        "df = pd.read_csv('cleaned_chunk.csv')\n",
        "X = df.drop(columns=['label'])\n",
        "y = df['label']\n",
        "y = (y > 0.5).astype(int)  # Convert target to discrete if needed\n",
        "\n",
        "# Perform Chi-squared feature selection\n",
        "chi2_scores, p_values = chi2(X, y)\n",
        "# Select top k features based on Chi-squared scores (e.g., top 10)\n",
        "k = 10  # Number of features to select\n",
        "top_k_features = np.argsort(chi2_scores)[-k:]\n",
        "selected_features = X.columns[top_k_features]\n",
        "\n",
        "# Split the dataset using selected features\n",
        "X_selected = X[selected_features]\n",
        "X_train, X_test, y_train, y_test = train_test_split(\n",
        "    X_selected, y, test_size=0.2, random_state=42\n",
        ")\n",
        "\n",
        "# Train Random Forest\n",
        "rf_model = RandomForestClassifier(n_estimators=100, random_state=42)\n",
        "rf_model.fit(X_train, y_train)\n",
        "\n",
        "# Predict and evaluate\n",
        "y_pred = rf_model.predict(X_test)\n",
        "print(\"Random Forest - Accuracy:\", accuracy_score(y_test, y_pred))\n",
        "print(\"Random Forest - Classification Report:\\n\", classification_report(y_test, y_pred))"
      ]
    },
    {
      "cell_type": "code",
      "execution_count": null,
      "metadata": {
        "colab": {
          "base_uri": "https://localhost:8080/"
        },
        "id": "PScH1mM8zsrO",
        "outputId": "8a20115f-76f1-4c4c-98d8-78ee26b2d9da"
      },
      "outputs": [
        {
          "name": "stdout",
          "output_type": "stream",
          "text": [
            "Selected Features: Index(['ts', 'conn_state_RSTR', 'conn_state_S3', 'conn_state_REJ',\n",
            "       'conn_state_S0', 'proto_icmp', 'proto_tcp', 'conn_state_SF',\n",
            "       'conn_state_OTH', 'id.orig_h'],\n",
            "      dtype='object')\n"
          ]
        }
      ],
      "source": [
        "# Print the selected features\n",
        "print(\"Selected Features:\", selected_features)"
      ]
    },
    {
      "cell_type": "code",
      "execution_count": null,
      "metadata": {
        "colab": {
          "base_uri": "https://localhost:8080/"
        },
        "id": "GxxvL1qxlWwB",
        "outputId": "cefd095d-fc5b-4398-834a-a8989141053e"
      },
      "outputs": [
        {
          "name": "stderr",
          "output_type": "stream",
          "text": [
            "/usr/local/lib/python3.11/dist-packages/xgboost/core.py:158: UserWarning: [10:21:59] WARNING: /workspace/src/learner.cc:740: \n",
            "Parameters: { \"use_label_encoder\" } are not used.\n",
            "\n",
            "  warnings.warn(smsg, UserWarning)\n"
          ]
        },
        {
          "name": "stdout",
          "output_type": "stream",
          "text": [
            "Accuracy: 0.94623\n",
            "Classification Report:\n",
            "               precision    recall  f1-score   support\n",
            "\n",
            "           0       1.00      0.89      0.94     46638\n",
            "           1       0.91      1.00      0.95     53362\n",
            "\n",
            "    accuracy                           0.95    100000\n",
            "   macro avg       0.95      0.94      0.95    100000\n",
            "weighted avg       0.95      0.95      0.95    100000\n",
            "\n"
          ]
        }
      ],
      "source": [
        "import pandas as pd\n",
        "import numpy as np\n",
        "from sklearn.model_selection import train_test_split\n",
        "from sklearn.feature_selection import chi2\n",
        "import xgboost as xgb\n",
        "from sklearn.metrics import classification_report, accuracy_score\n",
        "\n",
        "# 1. Load the dataset\n",
        "df = pd.read_csv('cleaned_chunk.csv')  # Replace with your actual file name\n",
        "\n",
        "# 2. Separate features and label\n",
        "X = df.drop(columns=['label'])\n",
        "y = df['label']\n",
        "\n",
        "# Convert target to discrete values if needed\n",
        "y = (y > 0.5).astype(int)  # Adjust threshold if needed\n",
        "\n",
        "# 3. Perform Chi-squared feature selection\n",
        "chi2_scores, p_values = chi2(X, y)\n",
        "\n",
        "# Select top k features based on Chi-squared scores (e.g., top 10)\n",
        "k = 10  # Number of features to select\n",
        "top_k_features = np.argsort(chi2_scores)[-k:]\n",
        "selected_features = X.columns[top_k_features]\n",
        "\n",
        "# 4. Create a dataset with selected features\n",
        "X_selected = X[selected_features]\n",
        "\n",
        "# 5. Split the dataset\n",
        "X_train, X_test, y_train, y_test = train_test_split(X_selected, y, test_size=0.2, random_state=42)\n",
        "\n",
        "# 6. Train XGBoost model (without normalization)\n",
        "xgb_model = xgb.XGBClassifier(use_label_encoder=False, eval_metric='mlogloss')\n",
        "xgb_model.fit(X_train, y_train)\n",
        "\n",
        "# 7. Predict and Evaluate\n",
        "y_pred = xgb_model.predict(X_test)\n",
        "print(\"Accuracy:\", accuracy_score(y_test, y_pred))\n",
        "print(\"Classification Report:\\n\", classification_report(y_test, y_pred))"
      ]
    },
    {
      "cell_type": "code",
      "execution_count": null,
      "metadata": {
        "colab": {
          "base_uri": "https://localhost:8080/"
        },
        "id": "uTpC0n7Om7IA",
        "outputId": "175d99f7-34d9-418a-8148-796609c62a5c"
      },
      "outputs": [
        {
          "name": "stdout",
          "output_type": "stream",
          "text": [
            "Accuracy: 0.79873\n",
            "Classification Report:\n",
            "               precision    recall  f1-score   support\n",
            "\n",
            "           0       1.00      0.57      0.72     46638\n",
            "           1       0.73      1.00      0.84     53362\n",
            "\n",
            "    accuracy                           0.80    100000\n",
            "   macro avg       0.86      0.78      0.78    100000\n",
            "weighted avg       0.85      0.80      0.79    100000\n",
            "\n"
          ]
        }
      ],
      "source": [
        "import pandas as pd\n",
        "import numpy as np\n",
        "from sklearn.model_selection import train_test_split\n",
        "from sklearn.feature_selection import chi2\n",
        "from sklearn.linear_model import LogisticRegression\n",
        "from sklearn.metrics import classification_report, accuracy_score\n",
        "\n",
        "# 1. Load the dataset\n",
        "df = pd.read_csv('cleaned_chunk.csv')  # Replace with your actual file name\n",
        "\n",
        "# 2. Separate features and label\n",
        "X = df.drop(columns=['label'])\n",
        "y = df['label']\n",
        "\n",
        "# Convert target to binary values if needed\n",
        "y = (y > 0.5).astype(int)  # Adjust threshold if needed\n",
        "\n",
        "# 3. Perform Chi-squared feature selection\n",
        "chi2_scores, p_values = chi2(X, y)\n",
        "\n",
        "# Select top k features based on Chi-squared scores (e.g., top 10)\n",
        "k = 10  # Number of features to select\n",
        "top_k_features = np.argsort(chi2_scores)[-k:]\n",
        "selected_features = X.columns[top_k_features]\n",
        "\n",
        "# 4. Create a dataset with selected features\n",
        "X_selected = X[selected_features]\n",
        "\n",
        "# 5. Split the dataset\n",
        "X_train, X_test, y_train, y_test = train_test_split(X_selected, y, test_size=0.2, random_state=42)\n",
        "\n",
        "# 6. Train Logistic Regression model (without normalization)\n",
        "lr_model = LogisticRegression(max_iter=1000, random_state=42)\n",
        "lr_model.fit(X_train, y_train)\n",
        "\n",
        "# 7. Predict and Evaluate\n",
        "y_pred = lr_model.predict(X_test)\n",
        "print(\"Accuracy:\", accuracy_score(y_test, y_pred))\n",
        "print(\"Classification Report:\\n\", classification_report(y_test, y_pred))"
      ]
    },
    {
      "cell_type": "code",
      "execution_count": null,
      "metadata": {
        "colab": {
          "base_uri": "https://localhost:8080/",
          "height": 507
        },
        "id": "mGtqA9ARnHOT",
        "outputId": "93332a12-db9a-45e8-95a1-6338a83bf1a2"
      },
      "outputs": [
        {
          "data": {
            "image/png": "[encoded data removed]",
            "text/plain": [
              "<Figure size 800x500 with 1 Axes>"
            ]
          },
          "metadata": {},
          "output_type": "display_data"
        }
      ],
      "source": [
        "import matplotlib.pyplot as plt\n",
        "\n",
        "# Accuracy values (update if needed)\n",
        "models = ['Random Forest', 'XGBoost' , 'Logistic regression']\n",
        "accuracy = [94.63, 94.62, 79.87]\n",
        "\n",
        "plt.figure(figsize=(8, 5))\n",
        "bars = plt.bar(models, accuracy, color=['royalblue', 'darkorange', 'green'])\n",
        "\n",
        "# Add accuracy values on top\n",
        "for bar in bars:\n",
        "    yval = bar.get_height()\n",
        "    plt.text(bar.get_x() + bar.get_width()/2.0, yval + 0.5, f'{yval}%', ha='center', va='bottom', fontsize=10)\n",
        "\n",
        "plt.title('Model Accuracy (Without Normalization,  with chi square feature Selection)', fontsize=14)\n",
        "plt.ylabel('Accuracy (%)')\n",
        "plt.ylim(0, 105)\n",
        "plt.grid(axis='y', linestyle='--', alpha=0.5)\n",
        "plt.tight_layout()\n",
        "plt.show()"
      ]
    },
    {
      "cell_type": "markdown",
      "metadata": {
        "id": "KrFBd1jzeE21"
      },
      "source": [
        "**RFE**"
      ]
    },
    {
      "cell_type": "code",
      "execution_count": null,
      "metadata": {
        "colab": {
          "base_uri": "https://localhost:8080/"
        },
        "id": "j9UyFNN_eIpf",
        "outputId": "69271010-7c50-436f-aa4a-d32d79a43901"
      },
      "outputs": [
        {
          "name": "stdout",
          "output_type": "stream",
          "text": [
            "Random Forest with RFE - Accuracy: 0.94634\n",
            "Random Forest with RFE - Classification Report:\n",
            "               precision    recall  f1-score   support\n",
            "\n",
            "           0       1.00      0.89      0.94     46638\n",
            "           1       0.91      1.00      0.95     53362\n",
            "\n",
            "    accuracy                           0.95    100000\n",
            "   macro avg       0.95      0.94      0.95    100000\n",
            "weighted avg       0.95      0.95      0.95    100000\n",
            "\n"
          ]
        }
      ],
      "source": [
        "import pandas as pd\n",
        "from sklearn.model_selection import train_test_split\n",
        "from sklearn.ensemble import RandomForestClassifier\n",
        "from sklearn.feature_selection import RFE\n",
        "from sklearn.metrics import classification_report, accuracy_score\n",
        "\n",
        "# Load the dataset\n",
        "df = pd.read_csv('cleaned_chunk.csv')\n",
        "X = df.drop(columns=['label'])\n",
        "y = df['label']\n",
        "y = (y > 0.5).astype(int)  # Convert target to discrete if needed\n",
        "\n",
        "# Split the dataset\n",
        "X_train, X_test, y_train, y_test = train_test_split(X, y, test_size=0.2, random_state=42)\n",
        "\n",
        "# Create a Random Forest classifier\n",
        "rf_model = RandomForestClassifier(n_estimators=100, random_state=42)\n",
        "\n",
        "# Initialize RFE with the Random Forest model and desired number of features\n",
        "rfe = RFE(estimator=rf_model, n_features_to_select=10)  # Select 10 features\n",
        "\n",
        "# Fit RFE to the training data\n",
        "rfe.fit(X_train, y_train)\n",
        "\n",
        "# Get the selected features\n",
        "selected_features = X_train.columns[rfe.support_]\n",
        "\n",
        "# Train the Random Forest model using the selected features\n",
        "rf_model.fit(X_train[selected_features], y_train)\n",
        "\n",
        "# Predict and evaluate\n",
        "y_pred = rf_model.predict(X_test[selected_features])\n",
        "print(\"Random Forest with RFE - Accuracy:\", accuracy_score(y_test, y_pred))\n",
        "print(\"Random Forest with RFE - Classification Report:\\n\", classification_report(y_test, y_pred))"
      ]
    },
    {
      "cell_type": "code",
      "execution_count": null,
      "metadata": {
        "colab": {
          "base_uri": "https://localhost:8080/"
        },
        "id": "EV8OYPoqnuoU",
        "outputId": "a46b4f26-4b0e-4734-e2f8-ed7d3d7831c2"
      },
      "outputs": [
        {
          "name": "stderr",
          "output_type": "stream",
          "text": [
            "/usr/local/lib/python3.11/dist-packages/xgboost/core.py:158: UserWarning: [10:31:55] WARNING: /workspace/src/learner.cc:740: \n",
            "Parameters: { \"use_label_encoder\" } are not used.\n",
            "\n",
            "  warnings.warn(smsg, UserWarning)\n",
            "/usr/local/lib/python3.11/dist-packages/xgboost/core.py:158: UserWarning: [10:32:01] WARNING: /workspace/src/learner.cc:740: \n",
            "Parameters: { \"use_label_encoder\" } are not used.\n",
            "\n",
            "  warnings.warn(smsg, UserWarning)\n",
            "/usr/local/lib/python3.11/dist-packages/xgboost/core.py:158: UserWarning: [10:32:05] WARNING: /workspace/src/learner.cc:740: \n",
            "Parameters: { \"use_label_encoder\" } are not used.\n",
            "\n",
            "  warnings.warn(smsg, UserWarning)\n",
            "/usr/local/lib/python3.11/dist-packages/xgboost/core.py:158: UserWarning: [10:32:12] WARNING: /workspace/src/learner.cc:740: \n",
            "Parameters: { \"use_label_encoder\" } are not used.\n",
            "\n",
            "  warnings.warn(smsg, UserWarning)\n",
            "/usr/local/lib/python3.11/dist-packages/xgboost/core.py:158: UserWarning: [10:32:16] WARNING: /workspace/src/learner.cc:740: \n",
            "Parameters: { \"use_label_encoder\" } are not used.\n",
            "\n",
            "  warnings.warn(smsg, UserWarning)\n",
            "/usr/local/lib/python3.11/dist-packages/xgboost/core.py:158: UserWarning: [10:32:20] WARNING: /workspace/src/learner.cc:740: \n",
            "Parameters: { \"use_label_encoder\" } are not used.\n",
            "\n",
            "  warnings.warn(smsg, UserWarning)\n",
            "/usr/local/lib/python3.11/dist-packages/xgboost/core.py:158: UserWarning: [10:32:27] WARNING: /workspace/src/learner.cc:740: \n",
            "Parameters: { \"use_label_encoder\" } are not used.\n",
            "\n",
            "  warnings.warn(smsg, UserWarning)\n",
            "/usr/local/lib/python3.11/dist-packages/xgboost/core.py:158: UserWarning: [10:32:30] WARNING: /workspace/src/learner.cc:740: \n",
            "Parameters: { \"use_label_encoder\" } are not used.\n",
            "\n",
            "  warnings.warn(smsg, UserWarning)\n",
            "/usr/local/lib/python3.11/dist-packages/xgboost/core.py:158: UserWarning: [10:32:34] WARNING: /workspace/src/learner.cc:740: \n",
            "Parameters: { \"use_label_encoder\" } are not used.\n",
            "\n",
            "  warnings.warn(smsg, UserWarning)\n",
            "/usr/local/lib/python3.11/dist-packages/xgboost/core.py:158: UserWarning: [10:32:37] WARNING: /workspace/src/learner.cc:740: \n",
            "Parameters: { \"use_label_encoder\" } are not used.\n",
            "\n",
            "  warnings.warn(smsg, UserWarning)\n",
            "/usr/local/lib/python3.11/dist-packages/xgboost/core.py:158: UserWarning: [10:32:45] WARNING: /workspace/src/learner.cc:740: \n",
            "Parameters: { \"use_label_encoder\" } are not used.\n",
            "\n",
            "  warnings.warn(smsg, UserWarning)\n",
            "/usr/local/lib/python3.11/dist-packages/xgboost/core.py:158: UserWarning: [10:32:48] WARNING: /workspace/src/learner.cc:740: \n",
            "Parameters: { \"use_label_encoder\" } are not used.\n",
            "\n",
            "  warnings.warn(smsg, UserWarning)\n",
            "/usr/local/lib/python3.11/dist-packages/xgboost/core.py:158: UserWarning: [10:32:51] WARNING: /workspace/src/learner.cc:740: \n",
            "Parameters: { \"use_label_encoder\" } are not used.\n",
            "\n",
            "  warnings.warn(smsg, UserWarning)\n"
          ]
        },
        {
          "name": "stdout",
          "output_type": "stream",
          "text": [
            "XGBoost with RFE - Accuracy: 0.94628\n",
            "XGBoost with RFE - Classification Report:\n",
            "               precision    recall  f1-score   support\n",
            "\n",
            "           0       1.00      0.89      0.94     46638\n",
            "           1       0.91      1.00      0.95     53362\n",
            "\n",
            "    accuracy                           0.95    100000\n",
            "   macro avg       0.95      0.94      0.95    100000\n",
            "weighted avg       0.95      0.95      0.95    100000\n",
            "\n"
          ]
        }
      ],
      "source": [
        "import pandas as pd\n",
        "from sklearn.model_selection import train_test_split\n",
        "from xgboost import XGBClassifier\n",
        "from sklearn.feature_selection import RFE\n",
        "from sklearn.metrics import classification_report, accuracy_score\n",
        "\n",
        "# Load the dataset\n",
        "df = pd.read_csv('cleaned_chunk.csv')\n",
        "X = df.drop(columns=['label'])\n",
        "y = df['label']\n",
        "y = (y > 0.5).astype(int)  # Convert target to binary if needed\n",
        "\n",
        "# Split the dataset\n",
        "X_train, X_test, y_train, y_test = train_test_split(X, y, test_size=0.2, random_state=42)\n",
        "\n",
        "# Create an XGBoost classifier\n",
        "xgb_model = XGBClassifier(use_label_encoder=False, eval_metric='logloss', random_state=42)\n",
        "\n",
        "# Initialize RFE with the XGBoost model and desired number of features\n",
        "rfe = RFE(estimator=xgb_model, n_features_to_select=10)\n",
        "\n",
        "# Fit RFE to the training data\n",
        "rfe.fit(X_train, y_train)\n",
        "\n",
        "# Get the selected features\n",
        "selected_features = X_train.columns[rfe.support_]\n",
        "\n",
        "# Train the XGBoost model using the selected features\n",
        "xgb_model.fit(X_train[selected_features], y_train)\n",
        "\n",
        "# Predict and evaluate\n",
        "y_pred = xgb_model.predict(X_test[selected_features])\n",
        "print(\"XGBoost with RFE - Accuracy:\", accuracy_score(y_test, y_pred))\n",
        "print(\"XGBoost with RFE - Classification Report:\\n\", classification_report(y_test, y_pred))"
      ]
    },
    {
      "cell_type": "code",
      "execution_count": null,
      "metadata": {
        "colab": {
          "base_uri": "https://localhost:8080/"
        },
        "id": "HSHFKdT5owst",
        "outputId": "d012aa16-cade-414f-f13a-ef3d18fd97c0"
      },
      "outputs": [
        {
          "name": "stdout",
          "output_type": "stream",
          "text": [
            "Logistic Regression with RFE - Accuracy: 0.79873\n",
            "Logistic Regression with RFE - Classification Report:\n",
            "               precision    recall  f1-score   support\n",
            "\n",
            "           0       1.00      0.57      0.72     46638\n",
            "           1       0.73      1.00      0.84     53362\n",
            "\n",
            "    accuracy                           0.80    100000\n",
            "   macro avg       0.86      0.78      0.78    100000\n",
            "weighted avg       0.85      0.80      0.79    100000\n",
            "\n"
          ]
        }
      ],
      "source": [
        "import pandas as pd\n",
        "from sklearn.model_selection import train_test_split\n",
        "from sklearn.linear_model import LogisticRegression\n",
        "from sklearn.feature_selection import RFE\n",
        "from sklearn.metrics import classification_report, accuracy_score\n",
        "\n",
        "# Load the dataset\n",
        "df = pd.read_csv('cleaned_chunk.csv')\n",
        "X = df.drop(columns=['label'])\n",
        "y = df['label']\n",
        "y = (y > 0.5).astype(int)  # Convert target to binary if needed\n",
        "\n",
        "# Split the dataset\n",
        "X_train, X_test, y_train, y_test = train_test_split(X, y, test_size=0.2, random_state=42)\n",
        "\n",
        "# Create a Logistic Regression model\n",
        "lr_model = LogisticRegression(max_iter=1000, random_state=42)\n",
        "\n",
        "# Initialize RFE with Logistic Regression and select top 10 features\n",
        "rfe = RFE(estimator=lr_model, n_features_to_select=10)\n",
        "\n",
        "# Fit RFE on training data\n",
        "rfe.fit(X_train, y_train)\n",
        "\n",
        "# Get selected features\n",
        "selected_features = X_train.columns[rfe.support_]\n",
        "\n",
        "# Train Logistic Regression with selected features\n",
        "lr_model.fit(X_train[selected_features], y_train)\n",
        "\n",
        "# Predict and evaluate\n",
        "y_pred = lr_model.predict(X_test[selected_features])\n",
        "print(\"Logistic Regression with RFE - Accuracy:\", accuracy_score(y_test, y_pred))\n",
        "print(\"Logistic Regression with RFE - Classification Report:\\n\", classification_report(y_test, y_pred))"
      ]
    },
    {
      "cell_type": "code",
      "execution_count": null,
      "metadata": {
        "colab": {
          "base_uri": "https://localhost:8080/",
          "height": 507
        },
        "id": "WbRQz67To72S",
        "outputId": "a6347c71-f844-4c9c-fde7-ffaf4fbaafdc"
      },
      "outputs": [
        {
          "data": {
            "image/png": "[encoded data removed]",
            "text/plain": [
              "<Figure size 800x500 with 1 Axes>"
            ]
          },
          "metadata": {},
          "output_type": "display_data"
        }
      ],
      "source": [
        "import matplotlib.pyplot as plt\n",
        "\n",
        "# Accuracy values (update if needed)\n",
        "models = ['Random Forest', 'XGBoost' , 'Logistic regression']\n",
        "accuracy = [94.63, 94.62, 79.87]\n",
        "\n",
        "plt.figure(figsize=(8, 5))\n",
        "bars = plt.bar(models, accuracy, color=['royalblue', 'darkorange', 'green'])\n",
        "\n",
        "# Add accuracy values on top\n",
        "for bar in bars:\n",
        "    yval = bar.get_height()\n",
        "    plt.text(bar.get_x() + bar.get_width()/2.0, yval + 0.5, f'{yval}%', ha='center', va='bottom', fontsize=10)\n",
        "\n",
        "plt.title('Model Accuracy (Without Normalization,  with RFE feature Selection)', fontsize=14)\n",
        "plt.ylabel('Accuracy (%)')\n",
        "plt.ylim(0, 105)\n",
        "plt.grid(axis='y', linestyle='--', alpha=0.5)\n",
        "plt.tight_layout()\n",
        "plt.show()"
      ]
    },
    {
      "cell_type": "markdown",
      "metadata": {
        "id": "1Dg5rQlAqn29"
      },
      "source": [
        "**WITH RFE FEATURE SELECTION AND MIN MAX SCALER**"
      ]
    },
    {
      "cell_type": "code",
      "execution_count": null,
      "metadata": {
        "colab": {
          "base_uri": "https://localhost:8080/"
        },
        "id": "yi2M-bUJqkrY",
        "outputId": "893309ae-8a3a-45e5-dbaf-6ee5653af27b"
      },
      "outputs": [
        {
          "name": "stdout",
          "output_type": "stream",
          "text": [
            "Random Forest with RFE + MinMax Scaling - Accuracy: 0.94634\n",
            "Random Forest with RFE + MinMax Scaling - Classification Report:\n",
            "               precision    recall  f1-score   support\n",
            "\n",
            "           0       1.00      0.89      0.94     46638\n",
            "           1       0.91      1.00      0.95     53362\n",
            "\n",
            "    accuracy                           0.95    100000\n",
            "   macro avg       0.95      0.94      0.95    100000\n",
            "weighted avg       0.95      0.95      0.95    100000\n",
            "\n"
          ]
        }
      ],
      "source": [
        "import pandas as pd\n",
        "from sklearn.model_selection import train_test_split\n",
        "from sklearn.ensemble import RandomForestClassifier\n",
        "from sklearn.feature_selection import RFE\n",
        "from sklearn.metrics import classification_report, accuracy_score\n",
        "from sklearn.preprocessing import MinMaxScaler\n",
        "\n",
        "# Load the dataset\n",
        "df = pd.read_csv('cleaned_chunk.csv')\n",
        "X = df.drop(columns=['label'])\n",
        "y = df['label']\n",
        "y = (y > 0.5).astype(int)  # Convert to binary classification if not already\n",
        "\n",
        "# Normalize features using Min-Max Scaler\n",
        "scaler = MinMaxScaler()\n",
        "X_scaled = pd.DataFrame(scaler.fit_transform(X), columns=X.columns)\n",
        "\n",
        "# Split the dataset\n",
        "X_train, X_test, y_train, y_test = train_test_split(X_scaled, y, test_size=0.2, random_state=42)\n",
        "\n",
        "# Create a Random Forest classifier\n",
        "rf_model = RandomForestClassifier(n_estimators=100, random_state=42)\n",
        "\n",
        "# Apply RFE to select top 10 features\n",
        "rfe = RFE(estimator=rf_model, n_features_to_select=10)\n",
        "rfe.fit(X_train, y_train)\n",
        "\n",
        "# Get selected features\n",
        "selected_features = X_train.columns[rfe.support_]\n",
        "\n",
        "# Train Random Forest using selected features\n",
        "rf_model.fit(X_train[selected_features], y_train)\n",
        "\n",
        "# Predict and evaluate\n",
        "y_pred = rf_model.predict(X_test[selected_features])\n",
        "print(\"Random Forest with RFE + MinMax Scaling - Accuracy:\", accuracy_score(y_test, y_pred))\n",
        "print(\"Random Forest with RFE + MinMax Scaling - Classification Report:\\n\", classification_report(y_test, y_pred))\n"
      ]
    },
    {
      "cell_type": "markdown",
      "metadata": {
        "id": "Gh-izSzGsxEQ"
      },
      "source": [
        "**RFE WITH ROBUST SCALER**"
      ]
    },
    {
      "cell_type": "code",
      "execution_count": null,
      "metadata": {
        "colab": {
          "background_save": true
        },
        "id": "v0QUWRyBs1HH",
        "outputId": "2e4df0d0-3430-4686-a379-9d908cacc434"
      },
      "outputs": [
        {
          "name": "stdout",
          "output_type": "stream",
          "text": [
            "Random Forest with RFE + Robust Scaler - Accuracy: 0.9611\n",
            "Random Forest with RFE + Robust Scaler - Classification Report:\n",
            "               precision    recall  f1-score   support\n",
            "\n",
            "           0       0.96      0.95      0.96     46638\n",
            "           1       0.96      0.97      0.96     53362\n",
            "\n",
            "    accuracy                           0.96    100000\n",
            "   macro avg       0.96      0.96      0.96    100000\n",
            "weighted avg       0.96      0.96      0.96    100000\n",
            "\n"
          ]
        }
      ],
      "source": [
        "import pandas as pd\n",
        "from sklearn.model_selection import train_test_split\n",
        "from sklearn.ensemble import RandomForestClassifier\n",
        "from sklearn.feature_selection import RFE\n",
        "from sklearn.preprocessing import RobustScaler\n",
        "from sklearn.metrics import accuracy_score, classification_report\n",
        "\n",
        "# Load the dataset\n",
        "df = pd.read_csv('cleaned_chunk.csv')\n",
        "X = df.drop(columns=['label'])\n",
        "y = df['label']\n",
        "y = (y > 0.5).astype(int)  # Ensure binary classification\n",
        "\n",
        "# Apply Robust Scaler normalization\n",
        "scaler = RobustScaler()\n",
        "X_scaled = pd.DataFrame(scaler.fit_transform(X), columns=X.columns)\n",
        "\n",
        "# Split the dataset\n",
        "X_train, X_test, y_train, y_test = train_test_split(X_scaled, y, test_size=0.2, random_state=42)\n",
        "\n",
        "# Initialize Random Forest\n",
        "rf_model = RandomForestClassifier(n_estimators=100, random_state=42)\n",
        "\n",
        "# Apply RFE (wrapper method) with RF to select top 10 features\n",
        "rfe = RFE(estimator=rf_model, n_features_to_select=10)\n",
        "rfe.fit(X_train, y_train)\n",
        "\n",
        "# Extract selected features\n",
        "selected_features = X_train.columns[rfe.support_]\n",
        "\n",
        "# Train Random Forest on selected features\n",
        "rf_model.fit(X_train[selected_features], y_train)\n",
        "\n",
        "# Predict and evaluate\n",
        "y_pred = rf_model.predict(X_test[selected_features])\n",
        "print(\"Random Forest with RFE + Robust Scaler - Accuracy:\", accuracy_score(y_test, y_pred))\n",
        "print(\"Random Forest with RFE + Robust Scaler - Classification Report:\\n\", classification_report(y_test, y_pred))\n"
      ]
    },
    {
      "cell_type": "code",
      "execution_count": null,
      "metadata": {
        "colab": {
          "background_save": true
        },
        "id": "BmX3e5nJ_uYc",
        "outputId": "5a3d7ad8-0fbb-475f-b225-0353f8b61023"
      },
      "outputs": [
        {
          "data": {
            "image/png": "[encoded data removed]",
            "text/plain": [
              "<Figure size 700x500 with 1 Axes>"
            ]
          },
          "metadata": {},
          "output_type": "display_data"
        }
      ],
      "source": [
        "import matplotlib.pyplot as plt\n",
        "\n",
        "methods = ['RFE + MinMax', 'RFE + Robust']\n",
        "accuracy = [94.63, 96.11]\n",
        "\n",
        "plt.figure(figsize=(7, 5))\n",
        "bars = plt.bar(methods, accuracy, color=['skyblue', 'lightcoral'])\n",
        "\n",
        "# Add labels\n",
        "for bar in bars:\n",
        "    yval = bar.get_height()\n",
        "    plt.text(bar.get_x() + bar.get_width()/2.0, yval + 0.3, f'{yval}%', ha='center', fontsize=10)\n",
        "\n",
        "plt.title('Random Forest Accuracy with RFE + Normalization Methods')\n",
        "plt.ylabel('Accuracy (%)')\n",
        "plt.ylim(0, 105)\n",
        "plt.grid(axis='y', linestyle='--', alpha=0.6)\n",
        "plt.tight_layout()\n",
        "plt.show()\n"
      ]
    },
    {
      "cell_type": "markdown",
      "metadata": {
        "id": "eLodXigJAYKr"
      },
      "source": [
        "**XGBOOST WITH RFE AND MINMAX**"
      ]
    },
    {
      "cell_type": "code",
      "execution_count": null,
      "metadata": {
        "colab": {
          "background_save": true
        },
        "id": "jhGZd8JxAetp",
        "outputId": "fba70c25-4e66-4b66-c11e-d01798b10a3c"
      },
      "outputs": [
        {
          "name": "stderr",
          "output_type": "stream",
          "text": [
            "/usr/local/lib/python3.11/dist-packages/xgboost/core.py:158: UserWarning: [12:50:02] WARNING: /workspace/src/learner.cc:740: \n",
            "Parameters: { \"use_label_encoder\" } are not used.\n",
            "\n",
            "  warnings.warn(smsg, UserWarning)\n",
            "/usr/local/lib/python3.11/dist-packages/xgboost/core.py:158: UserWarning: [12:50:06] WARNING: /workspace/src/learner.cc:740: \n",
            "Parameters: { \"use_label_encoder\" } are not used.\n",
            "\n",
            "  warnings.warn(smsg, UserWarning)\n",
            "/usr/local/lib/python3.11/dist-packages/xgboost/core.py:158: UserWarning: [12:50:11] WARNING: /workspace/src/learner.cc:740: \n",
            "Parameters: { \"use_label_encoder\" } are not used.\n",
            "\n",
            "  warnings.warn(smsg, UserWarning)\n",
            "/usr/local/lib/python3.11/dist-packages/xgboost/core.py:158: UserWarning: [12:50:15] WARNING: /workspace/src/learner.cc:740: \n",
            "Parameters: { \"use_label_encoder\" } are not used.\n",
            "\n",
            "  warnings.warn(smsg, UserWarning)\n",
            "/usr/local/lib/python3.11/dist-packages/xgboost/core.py:158: UserWarning: [12:50:18] WARNING: /workspace/src/learner.cc:740: \n",
            "Parameters: { \"use_label_encoder\" } are not used.\n",
            "\n",
            "  warnings.warn(smsg, UserWarning)\n",
            "/usr/local/lib/python3.11/dist-packages/xgboost/core.py:158: UserWarning: [12:50:21] WARNING: /workspace/src/learner.cc:740: \n",
            "Parameters: { \"use_label_encoder\" } are not used.\n",
            "\n",
            "  warnings.warn(smsg, UserWarning)\n",
            "/usr/local/lib/python3.11/dist-packages/xgboost/core.py:158: UserWarning: [12:50:27] WARNING: /workspace/src/learner.cc:740: \n",
            "Parameters: { \"use_label_encoder\" } are not used.\n",
            "\n",
            "  warnings.warn(smsg, UserWarning)\n",
            "/usr/local/lib/python3.11/dist-packages/xgboost/core.py:158: UserWarning: [12:50:30] WARNING: /workspace/src/learner.cc:740: \n",
            "Parameters: { \"use_label_encoder\" } are not used.\n",
            "\n",
            "  warnings.warn(smsg, UserWarning)\n",
            "/usr/local/lib/python3.11/dist-packages/xgboost/core.py:158: UserWarning: [12:50:33] WARNING: /workspace/src/learner.cc:740: \n",
            "Parameters: { \"use_label_encoder\" } are not used.\n",
            "\n",
            "  warnings.warn(smsg, UserWarning)\n",
            "/usr/local/lib/python3.11/dist-packages/xgboost/core.py:158: UserWarning: [12:50:36] WARNING: /workspace/src/learner.cc:740: \n",
            "Parameters: { \"use_label_encoder\" } are not used.\n",
            "\n",
            "  warnings.warn(smsg, UserWarning)\n",
            "/usr/local/lib/python3.11/dist-packages/xgboost/core.py:158: UserWarning: [12:50:41] WARNING: /workspace/src/learner.cc:740: \n",
            "Parameters: { \"use_label_encoder\" } are not used.\n",
            "\n",
            "  warnings.warn(smsg, UserWarning)\n",
            "/usr/local/lib/python3.11/dist-packages/xgboost/core.py:158: UserWarning: [12:50:44] WARNING: /workspace/src/learner.cc:740: \n",
            "Parameters: { \"use_label_encoder\" } are not used.\n",
            "\n",
            "  warnings.warn(smsg, UserWarning)\n",
            "/usr/local/lib/python3.11/dist-packages/xgboost/core.py:158: UserWarning: [12:50:46] WARNING: /workspace/src/learner.cc:740: \n",
            "Parameters: { \"use_label_encoder\" } are not used.\n",
            "\n",
            "  warnings.warn(smsg, UserWarning)\n"
          ]
        },
        {
          "name": "stdout",
          "output_type": "stream",
          "text": [
            "XGBoost with RFE + MinMax Scaler - Accuracy: 0.94628\n",
            "Classification Report:\n",
            "               precision    recall  f1-score   support\n",
            "\n",
            "           0       1.00      0.89      0.94     46638\n",
            "           1       0.91      1.00      0.95     53362\n",
            "\n",
            "    accuracy                           0.95    100000\n",
            "   macro avg       0.95      0.94      0.95    100000\n",
            "weighted avg       0.95      0.95      0.95    100000\n",
            "\n"
          ]
        }
      ],
      "source": [
        "import pandas as pd\n",
        "from sklearn.model_selection import train_test_split\n",
        "from xgboost import XGBClassifier\n",
        "from sklearn.feature_selection import RFE\n",
        "from sklearn.preprocessing import MinMaxScaler\n",
        "from sklearn.metrics import accuracy_score, classification_report\n",
        "\n",
        "# Load the dataset\n",
        "df = pd.read_csv('cleaned_chunk.csv')\n",
        "X = df.drop(columns=['label'])\n",
        "y = df['label']\n",
        "y = (y > 0.5).astype(int)  # Ensure binary classification\n",
        "\n",
        "# Apply Min-Max scaling\n",
        "scaler = MinMaxScaler()\n",
        "X_scaled = pd.DataFrame(scaler.fit_transform(X), columns=X.columns)\n",
        "\n",
        "# Split the dataset\n",
        "X_train, X_test, y_train, y_test = train_test_split(X_scaled, y, test_size=0.2, random_state=42)\n",
        "\n",
        "# Initialize XGBoost\n",
        "xgb_model = XGBClassifier(use_label_encoder=False, eval_metric='logloss', random_state=42)\n",
        "\n",
        "# Apply RFE to select top 10 features\n",
        "rfe = RFE(estimator=xgb_model, n_features_to_select=10)\n",
        "rfe.fit(X_train, y_train)\n",
        "\n",
        "# Get selected features\n",
        "selected_features = X_train.columns[rfe.support_]\n",
        "\n",
        "# Train XGBoost on selected features\n",
        "xgb_model.fit(X_train[selected_features], y_train)\n",
        "\n",
        "# Predict and evaluate\n",
        "y_pred = xgb_model.predict(X_test[selected_features])\n",
        "print(\"XGBoost with RFE + MinMax Scaler - Accuracy:\", accuracy_score(y_test, y_pred))\n",
        "print(\"Classification Report:\\n\", classification_report(y_test, y_pred))\n"
      ]
    },
    {
      "cell_type": "code",
      "execution_count": null,
      "metadata": {
        "colab": {
          "background_save": true
        },
        "id": "BOMGugIoBg07",
        "outputId": "c393f787-6e8c-40ac-baa4-e19d97c868c3"
      },
      "outputs": [
        {
          "name": "stderr",
          "output_type": "stream",
          "text": [
            "/usr/local/lib/python3.11/dist-packages/xgboost/core.py:158: UserWarning: [12:50:50] WARNING: /workspace/src/learner.cc:740: \n",
            "Parameters: { \"use_label_encoder\" } are not used.\n",
            "\n",
            "  warnings.warn(smsg, UserWarning)\n",
            "/usr/local/lib/python3.11/dist-packages/xgboost/core.py:158: UserWarning: [12:50:56] WARNING: /workspace/src/learner.cc:740: \n",
            "Parameters: { \"use_label_encoder\" } are not used.\n",
            "\n",
            "  warnings.warn(smsg, UserWarning)\n",
            "/usr/local/lib/python3.11/dist-packages/xgboost/core.py:158: UserWarning: [12:50:59] WARNING: /workspace/src/learner.cc:740: \n",
            "Parameters: { \"use_label_encoder\" } are not used.\n",
            "\n",
            "  warnings.warn(smsg, UserWarning)\n",
            "/usr/local/lib/python3.11/dist-packages/xgboost/core.py:158: UserWarning: [12:51:03] WARNING: /workspace/src/learner.cc:740: \n",
            "Parameters: { \"use_label_encoder\" } are not used.\n",
            "\n",
            "  warnings.warn(smsg, UserWarning)\n",
            "/usr/local/lib/python3.11/dist-packages/xgboost/core.py:158: UserWarning: [12:51:08] WARNING: /workspace/src/learner.cc:740: \n",
            "Parameters: { \"use_label_encoder\" } are not used.\n",
            "\n",
            "  warnings.warn(smsg, UserWarning)\n",
            "/usr/local/lib/python3.11/dist-packages/xgboost/core.py:158: UserWarning: [12:51:12] WARNING: /workspace/src/learner.cc:740: \n",
            "Parameters: { \"use_label_encoder\" } are not used.\n",
            "\n",
            "  warnings.warn(smsg, UserWarning)\n",
            "/usr/local/lib/python3.11/dist-packages/xgboost/core.py:158: UserWarning: [12:51:15] WARNING: /workspace/src/learner.cc:740: \n",
            "Parameters: { \"use_label_encoder\" } are not used.\n",
            "\n",
            "  warnings.warn(smsg, UserWarning)\n",
            "/usr/local/lib/python3.11/dist-packages/xgboost/core.py:158: UserWarning: [12:51:20] WARNING: /workspace/src/learner.cc:740: \n",
            "Parameters: { \"use_label_encoder\" } are not used.\n",
            "\n",
            "  warnings.warn(smsg, UserWarning)\n",
            "/usr/local/lib/python3.11/dist-packages/xgboost/core.py:158: UserWarning: [12:51:23] WARNING: /workspace/src/learner.cc:740: \n",
            "Parameters: { \"use_label_encoder\" } are not used.\n",
            "\n",
            "  warnings.warn(smsg, UserWarning)\n",
            "/usr/local/lib/python3.11/dist-packages/xgboost/core.py:158: UserWarning: [12:51:26] WARNING: /workspace/src/learner.cc:740: \n",
            "Parameters: { \"use_label_encoder\" } are not used.\n",
            "\n",
            "  warnings.warn(smsg, UserWarning)\n",
            "/usr/local/lib/python3.11/dist-packages/xgboost/core.py:158: UserWarning: [12:51:29] WARNING: /workspace/src/learner.cc:740: \n",
            "Parameters: { \"use_label_encoder\" } are not used.\n",
            "\n",
            "  warnings.warn(smsg, UserWarning)\n",
            "/usr/local/lib/python3.11/dist-packages/xgboost/core.py:158: UserWarning: [12:51:34] WARNING: /workspace/src/learner.cc:740: \n",
            "Parameters: { \"use_label_encoder\" } are not used.\n",
            "\n",
            "  warnings.warn(smsg, UserWarning)\n",
            "/usr/local/lib/python3.11/dist-packages/xgboost/core.py:158: UserWarning: [12:51:37] WARNING: /workspace/src/learner.cc:740: \n",
            "Parameters: { \"use_label_encoder\" } are not used.\n",
            "\n",
            "  warnings.warn(smsg, UserWarning)\n"
          ]
        },
        {
          "name": "stdout",
          "output_type": "stream",
          "text": [
            "XGBoost with RFE + Robust Scaler - Accuracy: 0.94629\n",
            "Classification Report:\n",
            "               precision    recall  f1-score   support\n",
            "\n",
            "           0       1.00      0.89      0.94     46638\n",
            "           1       0.91      1.00      0.95     53362\n",
            "\n",
            "    accuracy                           0.95    100000\n",
            "   macro avg       0.95      0.94      0.95    100000\n",
            "weighted avg       0.95      0.95      0.95    100000\n",
            "\n"
          ]
        }
      ],
      "source": [
        "from sklearn.preprocessing import RobustScaler\n",
        "\n",
        "# Apply Robust scaling\n",
        "scaler = RobustScaler()\n",
        "X_scaled = pd.DataFrame(scaler.fit_transform(X), columns=X.columns)\n",
        "\n",
        "# Split the dataset\n",
        "X_train, X_test, y_train, y_test = train_test_split(X_scaled, y, test_size=0.2, random_state=42)\n",
        "\n",
        "# Initialize XGBoost\n",
        "xgb_model = XGBClassifier(use_label_encoder=False, eval_metric='logloss', random_state=42)\n",
        "\n",
        "# Apply RFE to select top 10 features\n",
        "rfe = RFE(estimator=xgb_model, n_features_to_select=10)\n",
        "rfe.fit(X_train, y_train)\n",
        "\n",
        "# Get selected features\n",
        "selected_features = X_train.columns[rfe.support_]\n",
        "\n",
        "# Train XGBoost on selected features\n",
        "xgb_model.fit(X_train[selected_features], y_train)\n",
        "\n",
        "# Predict and evaluate\n",
        "y_pred = xgb_model.predict(X_test[selected_features])\n",
        "print(\"XGBoost with RFE + Robust Scaler - Accuracy:\", accuracy_score(y_test, y_pred))\n",
        "print(\"Classification Report:\\n\", classification_report(y_test, y_pred))\n"
      ]
    },
    {
      "cell_type": "code",
      "execution_count": null,
      "metadata": {
        "colab": {
          "background_save": true
        },
        "id": "xTFbIVfaDNtr",
        "outputId": "f3f3cdd0-1953-4565-fcf6-7d79ce6de0c8"
      },
      "outputs": [
        {
          "name": "stdout",
          "output_type": "stream",
          "text": [
            "Logistic Regression with RFE + Robust Scaler - Accuracy: 0.79873\n",
            "Classification Report:\n",
            "               precision    recall  f1-score   support\n",
            "\n",
            "           0       1.00      0.57      0.72     46638\n",
            "           1       0.73      1.00      0.84     53362\n",
            "\n",
            "    accuracy                           0.80    100000\n",
            "   macro avg       0.86      0.78      0.78    100000\n",
            "weighted avg       0.85      0.80      0.79    100000\n",
            "\n"
          ]
        }
      ],
      "source": [
        "import pandas as pd\n",
        "from sklearn.model_selection import train_test_split\n",
        "from sklearn.linear_model import LogisticRegression\n",
        "from sklearn.feature_selection import RFE\n",
        "from sklearn.preprocessing import RobustScaler\n",
        "from sklearn.metrics import accuracy_score, classification_report\n",
        "\n",
        "# Load the dataset\n",
        "df = pd.read_csv('cleaned_chunk.csv')\n",
        "X = df.drop(columns=['label'])\n",
        "y = df['label']\n",
        "y = (y > 0.5).astype(int)  # Ensure binary classification\n",
        "\n",
        "# Apply Robust Scaler normalization\n",
        "scaler = RobustScaler()\n",
        "X_scaled = pd.DataFrame(scaler.fit_transform(X), columns=X.columns)\n",
        "\n",
        "# Split the dataset\n",
        "X_train, X_test, y_train, y_test = train_test_split(X_scaled, y, test_size=0.2, random_state=42)\n",
        "\n",
        "# Initialize Logistic Regression\n",
        "lr_model = LogisticRegression(max_iter=1000, random_state=42)\n",
        "\n",
        "# Apply RFE with Logistic Regression to select top 10 features\n",
        "rfe = RFE(estimator=lr_model, n_features_to_select=10)\n",
        "rfe.fit(X_train, y_train)\n",
        "\n",
        "# Get selected features\n",
        "selected_features = X_train.columns[rfe.support_]\n",
        "\n",
        "# Train Logistic Regression on selected features\n",
        "lr_model.fit(X_train[selected_features], y_train)\n",
        "\n",
        "# Predict and evaluate\n",
        "y_pred = lr_model.predict(X_test[selected_features])\n",
        "print(\"Logistic Regression with RFE + Robust Scaler - Accuracy:\", accuracy_score(y_test, y_pred))\n",
        "print(\"Classification Report:\\n\", classification_report(y_test, y_pred))"
      ]
    },
    {
      "cell_type": "code",
      "execution_count": null,
      "metadata": {
        "colab": {
          "background_save": true
        },
        "id": "teYZWAkzD1Hj",
        "outputId": "4ba12f92-6b9e-4799-dee2-49d8c4462b7c"
      },
      "outputs": [
        {
          "name": "stdout",
          "output_type": "stream",
          "text": [
            "Logistic Regression with RFE + MinMax Scaler - Accuracy: 0.79873\n",
            "Classification Report:\n",
            "               precision    recall  f1-score   support\n",
            "\n",
            "           0       1.00      0.57      0.72     46638\n",
            "           1       0.73      1.00      0.84     53362\n",
            "\n",
            "    accuracy                           0.80    100000\n",
            "   macro avg       0.86      0.78      0.78    100000\n",
            "weighted avg       0.85      0.80      0.79    100000\n",
            "\n"
          ]
        }
      ],
      "source": [
        "import pandas as pd\n",
        "from sklearn.model_selection import train_test_split\n",
        "from sklearn.linear_model import LogisticRegression\n",
        "from sklearn.feature_selection import RFE\n",
        "from sklearn.preprocessing import MinMaxScaler\n",
        "from sklearn.metrics import accuracy_score, classification_report\n",
        "\n",
        "# Load the dataset\n",
        "df = pd.read_csv('cleaned_chunk.csv')\n",
        "X = df.drop(columns=['label'])\n",
        "y = df['label']\n",
        "y = (y > 0.5).astype(int)  # Ensure binary classification\n",
        "\n",
        "# Apply Min-Max Scaler normalization\n",
        "scaler = MinMaxScaler()\n",
        "X_scaled = pd.DataFrame(scaler.fit_transform(X), columns=X.columns)\n",
        "\n",
        "# Split the dataset\n",
        "X_train, X_test, y_train, y_test = train_test_split(X_scaled, y, test_size=0.2, random_state=42)\n",
        "\n",
        "# Initialize Logistic Regression\n",
        "lr_model = LogisticRegression(max_iter=1000, random_state=42)\n",
        "\n",
        "# Apply RFE with Logistic Regression to select top 10 features\n",
        "rfe = RFE(estimator=lr_model, n_features_to_select=10)\n",
        "rfe.fit(X_train, y_train)\n",
        "\n",
        "# Get selected features\n",
        "selected_features = X_train.columns[rfe.support_]\n",
        "\n",
        "# Train Logistic Regression on selected features\n",
        "lr_model.fit(X_train[selected_features], y_train)\n",
        "\n",
        "# Predict and evaluate\n",
        "y_pred = lr_model.predict(X_test[selected_features])\n",
        "print(\"Logistic Regression with RFE + MinMax Scaler - Accuracy:\", accuracy_score(y_test, y_pred))\n",
        "print(\"Classification Report:\\n\", classification_report(y_test, y_pred))"
      ]
    },
    {
      "cell_type": "code",
      "execution_count": null,
      "metadata": {
        "colab": {
          "background_save": true
        },
        "id": "kYNWO1j4FBkv",
        "outputId": "e94fe7e4-01a4-414d-b0e6-2121d8063091"
      },
      "outputs": [
        {
          "name": "stdout",
          "output_type": "stream",
          "text": [
            "Random Forest + Chi-Square + MinMax - Accuracy: 0.94632\n",
            "Selected Features: ['ts', 'id.orig_h', 'proto_icmp', 'proto_tcp', 'conn_state_OTH', 'conn_state_REJ', 'conn_state_RSTR', 'conn_state_S0', 'conn_state_S3', 'conn_state_SF']\n",
            "Classification Report:\n",
            "               precision    recall  f1-score   support\n",
            "\n",
            "           0       1.00      0.89      0.94     46638\n",
            "           1       0.91      1.00      0.95     53362\n",
            "\n",
            "    accuracy                           0.95    100000\n",
            "   macro avg       0.95      0.94      0.95    100000\n",
            "weighted avg       0.95      0.95      0.95    100000\n",
            "\n"
          ]
        }
      ],
      "source": [
        "import pandas as pd\n",
        "from sklearn.model_selection import train_test_split\n",
        "from sklearn.preprocessing import MinMaxScaler\n",
        "from sklearn.feature_selection import SelectKBest, chi2\n",
        "from sklearn.ensemble import RandomForestClassifier\n",
        "from sklearn.metrics import accuracy_score, classification_report\n",
        "\n",
        "# Load dataset\n",
        "df = pd.read_csv('cleaned_chunk.csv')\n",
        "X = df.drop(columns=['label'])\n",
        "y = df['label']\n",
        "y = (y > 0.5).astype(int)\n",
        "\n",
        "# Min-Max Scaling (required for chi2)\n",
        "scaler = MinMaxScaler()\n",
        "X_scaled = pd.DataFrame(scaler.fit_transform(X), columns=X.columns)\n",
        "\n",
        "# Chi-Square Feature Selection (top 10 features)\n",
        "selector = SelectKBest(score_func=chi2, k=10)\n",
        "X_selected = selector.fit_transform(X_scaled, y)\n",
        "selected_features = X.columns[selector.get_support()]\n",
        "\n",
        "# Split data\n",
        "X_train, X_test, y_train, y_test = train_test_split(\n",
        "    pd.DataFrame(X_selected, columns=selected_features), y, test_size=0.2, random_state=42)\n",
        "\n",
        "# Random Forest\n",
        "rf_model = RandomForestClassifier(n_estimators=100, random_state=42)\n",
        "rf_model.fit(X_train, y_train)\n",
        "y_pred = rf_model.predict(X_test)\n",
        "\n",
        "# Results\n",
        "print(\"Random Forest + Chi-Square + MinMax - Accuracy:\", accuracy_score(y_test, y_pred))\n",
        "print(\"Selected Features:\", list(selected_features))\n",
        "print(\"Classification Report:\\n\", classification_report(y_test, y_pred))\n"
      ]
    },
    {
      "cell_type": "code",
      "execution_count": null,
      "metadata": {
        "colab": {
          "background_save": true
        },
        "id": "9EnEEZQqF8Fi",
        "outputId": "e0745d97-14cf-4c96-93af-3231c88363df"
      },
      "outputs": [
        {
          "name": "stdout",
          "output_type": "stream",
          "text": [
            "Logistic Regression + Chi-Square + MinMax - Accuracy: 0.79873\n",
            "Selected Features: ['ts', 'id.orig_h', 'proto_icmp', 'proto_tcp', 'conn_state_OTH', 'conn_state_REJ', 'conn_state_RSTR', 'conn_state_S0', 'conn_state_S3', 'conn_state_SF']\n",
            "Classification Report:\n",
            "               precision    recall  f1-score   support\n",
            "\n",
            "           0       1.00      0.57      0.72     46638\n",
            "           1       0.73      1.00      0.84     53362\n",
            "\n",
            "    accuracy                           0.80    100000\n",
            "   macro avg       0.86      0.78      0.78    100000\n",
            "weighted avg       0.85      0.80      0.79    100000\n",
            "\n"
          ]
        }
      ],
      "source": [
        "import pandas as pd\n",
        "from sklearn.model_selection import train_test_split\n",
        "from sklearn.preprocessing import MinMaxScaler\n",
        "from sklearn.feature_selection import SelectKBest, chi2\n",
        "from sklearn.linear_model import LogisticRegression\n",
        "from sklearn.metrics import accuracy_score, classification_report\n",
        "\n",
        "# Load dataset\n",
        "df = pd.read_csv('cleaned_chunk.csv')\n",
        "X = df.drop(columns=['label'])\n",
        "y = df['label']\n",
        "y = (y > 0.5).astype(int)\n",
        "\n",
        "# Min-Max Scaling (required for chi2)\n",
        "scaler = MinMaxScaler()\n",
        "X_scaled = pd.DataFrame(scaler.fit_transform(X), columns=X.columns)\n",
        "\n",
        "# Chi-Square Feature Selection (top 10 features)\n",
        "selector = SelectKBest(score_func=chi2, k=10)\n",
        "X_selected = selector.fit_transform(X_scaled, y)\n",
        "selected_features = X.columns[selector.get_support()]\n",
        "\n",
        "# Split data\n",
        "X_train, X_test, y_train, y_test = train_test_split(\n",
        "    pd.DataFrame(X_selected, columns=selected_features), y, test_size=0.2, random_state=42)\n",
        "\n",
        "# Logistic Regression\n",
        "lr_model = LogisticRegression(max_iter=1000, random_state=42)\n",
        "lr_model.fit(X_train, y_train)\n",
        "y_pred = lr_model.predict(X_test)\n",
        "\n",
        "# Results\n",
        "print(\"Logistic Regression + Chi-Square + MinMax - Accuracy:\", accuracy_score(y_test, y_pred))\n",
        "print(\"Selected Features:\", list(selected_features))\n",
        "print(\"Classification Report:\\n\", classification_report(y_test, y_pred))\n"
      ]
    },
    {
      "cell_type": "code",
      "execution_count": null,
      "metadata": {
        "colab": {
          "background_save": true
        },
        "id": "LVo4VQ9EGVLi",
        "outputId": "942c41f8-8a26-42fa-f336-792ef4f0567f"
      },
      "outputs": [
        {
          "name": "stderr",
          "output_type": "stream",
          "text": [
            "/usr/local/lib/python3.11/dist-packages/xgboost/core.py:158: UserWarning: [12:53:12] WARNING: /workspace/src/learner.cc:740: \n",
            "Parameters: { \"use_label_encoder\" } are not used.\n",
            "\n",
            "  warnings.warn(smsg, UserWarning)\n"
          ]
        },
        {
          "name": "stdout",
          "output_type": "stream",
          "text": [
            "XGBoost + Chi-Square + MinMax - Accuracy: 0.94623\n",
            "Selected Features: ['ts', 'id.orig_h', 'proto_icmp', 'proto_tcp', 'conn_state_OTH', 'conn_state_REJ', 'conn_state_RSTR', 'conn_state_S0', 'conn_state_S3', 'conn_state_SF']\n",
            "Classification Report:\n",
            "               precision    recall  f1-score   support\n",
            "\n",
            "           0       1.00      0.89      0.94     46638\n",
            "           1       0.91      1.00      0.95     53362\n",
            "\n",
            "    accuracy                           0.95    100000\n",
            "   macro avg       0.95      0.94      0.95    100000\n",
            "weighted avg       0.95      0.95      0.95    100000\n",
            "\n"
          ]
        }
      ],
      "source": [
        "import pandas as pd\n",
        "from sklearn.model_selection import train_test_split\n",
        "from sklearn.preprocessing import MinMaxScaler\n",
        "from sklearn.feature_selection import SelectKBest, chi2\n",
        "from xgboost import XGBClassifier\n",
        "from sklearn.metrics import accuracy_score, classification_report\n",
        "\n",
        "# Load dataset\n",
        "df = pd.read_csv('cleaned_chunk.csv')\n",
        "X = df.drop(columns=['label'])\n",
        "y = df['label']\n",
        "y = (y > 0.5).astype(int)\n",
        "\n",
        "# Min-Max Scaling (required for chi2)\n",
        "scaler = MinMaxScaler()\n",
        "X_scaled = pd.DataFrame(scaler.fit_transform(X), columns=X.columns)\n",
        "\n",
        "# Chi-Square Feature Selection (top 10 features)\n",
        "selector = SelectKBest(score_func=chi2, k=10)\n",
        "X_selected = selector.fit_transform(X_scaled, y)\n",
        "selected_features = X.columns[selector.get_support()]\n",
        "\n",
        "# Split data\n",
        "X_train, X_test, y_train, y_test = train_test_split(\n",
        "    pd.DataFrame(X_selected, columns=selected_features), y, test_size=0.2, random_state=42)\n",
        "\n",
        "# XGBoost\n",
        "xgb_model = XGBClassifier(use_label_encoder=False, eval_metric='logloss', random_state=42)\n",
        "xgb_model.fit(X_train, y_train)\n",
        "y_pred = xgb_model.predict(X_test)\n",
        "\n",
        "# Results\n",
        "print(\"XGBoost + Chi-Square + MinMax - Accuracy:\", accuracy_score(y_test, y_pred))\n",
        "print(\"Selected Features:\", list(selected_features))\n",
        "print(\"Classification Report:\\n\", classification_report(y_test, y_pred))"
      ]
    },
    {
      "cell_type": "code",
      "execution_count": null,
      "metadata": {
        "colab": {
          "background_save": true
        },
        "id": "p_9_Z0RNGsR6",
        "outputId": "9d4bd942-a60f-471f-aed3-eef7a7dd4e48"
      },
      "outputs": [
        {
          "name": "stdout",
          "output_type": "stream",
          "text": [
            "Random Forest + Chi-Square + Robust Scaler - Accuracy: 0.94634\n",
            "Selected Features: ['ts', 'id.orig_h', 'proto_icmp', 'proto_tcp', 'conn_state_OTH', 'conn_state_REJ', 'conn_state_RSTR', 'conn_state_S0', 'conn_state_S3', 'conn_state_SF']\n",
            "Classification Report:\n",
            "               precision    recall  f1-score   support\n",
            "\n",
            "           0       1.00      0.89      0.94     46638\n",
            "           1       0.91      1.00      0.95     53362\n",
            "\n",
            "    accuracy                           0.95    100000\n",
            "   macro avg       0.95      0.94      0.95    100000\n",
            "weighted avg       0.95      0.95      0.95    100000\n",
            "\n"
          ]
        }
      ],
      "source": [
        "import pandas as pd\n",
        "from sklearn.model_selection import train_test_split\n",
        "from sklearn.preprocessing import RobustScaler\n",
        "from sklearn.feature_selection import SelectKBest, chi2\n",
        "from sklearn.ensemble import RandomForestClassifier\n",
        "from sklearn.metrics import accuracy_score, classification_report\n",
        "\n",
        "# Load dataset\n",
        "df = pd.read_csv('cleaned_chunk.csv')\n",
        "X = df.drop(columns=['label'])\n",
        "y = df['label']\n",
        "y = (y > 0.5).astype(int)\n",
        "\n",
        "# Apply Robust Scaler\n",
        "scaler = RobustScaler()\n",
        "X_scaled = pd.DataFrame(scaler.fit_transform(X), columns=X.columns)\n",
        "\n",
        "# Shift to make values non-negative (chi2 requires this)\n",
        "X_shifted = X_scaled - X_scaled.min()\n",
        "\n",
        "# Chi-Square Feature Selection (top 10 features)\n",
        "selector = SelectKBest(score_func=chi2, k=10)\n",
        "X_selected = selector.fit_transform(X_shifted, y)\n",
        "selected_features = X.columns[selector.get_support()]\n",
        "\n",
        "# Split data\n",
        "X_train, X_test, y_train, y_test = train_test_split(\n",
        "    pd.DataFrame(X_selected, columns=selected_features), y, test_size=0.2, random_state=42)\n",
        "\n",
        "# Random Forest\n",
        "rf_model = RandomForestClassifier(n_estimators=100, random_state=42)\n",
        "rf_model.fit(X_train, y_train)\n",
        "y_pred = rf_model.predict(X_test)\n",
        "\n",
        "# Results\n",
        "print(\"Random Forest + Chi-Square + Robust Scaler - Accuracy:\", accuracy_score(y_test, y_pred))\n",
        "print(\"Selected Features:\", list(selected_features))\n",
        "print(\"Classification Report:\\n\", classification_report(y_test, y_pred))"
      ]
    },
    {
      "cell_type": "code",
      "execution_count": null,
      "metadata": {
        "colab": {
          "background_save": true
        },
        "id": "U_PTgkhSH7fM",
        "outputId": "d9464740-0ffd-4a8b-fe7f-34a9b2892673"
      },
      "outputs": [
        {
          "name": "stdout",
          "output_type": "stream",
          "text": [
            "Logistic Regression + Chi-Square + Robust Scaler - Accuracy: 0.79873\n",
            "Selected Features: ['ts', 'id.orig_h', 'proto_icmp', 'proto_tcp', 'conn_state_OTH', 'conn_state_REJ', 'conn_state_RSTR', 'conn_state_S0', 'conn_state_S3', 'conn_state_SF']\n",
            "Classification Report:\n",
            "               precision    recall  f1-score   support\n",
            "\n",
            "           0       1.00      0.57      0.72     46638\n",
            "           1       0.73      1.00      0.84     53362\n",
            "\n",
            "    accuracy                           0.80    100000\n",
            "   macro avg       0.86      0.78      0.78    100000\n",
            "weighted avg       0.85      0.80      0.79    100000\n",
            "\n"
          ]
        }
      ],
      "source": [
        "import pandas as pd\n",
        "from sklearn.model_selection import train_test_split\n",
        "from sklearn.preprocessing import RobustScaler\n",
        "from sklearn.feature_selection import SelectKBest, chi2\n",
        "from sklearn.linear_model import LogisticRegression\n",
        "from sklearn.metrics import accuracy_score, classification_report\n",
        "\n",
        "# Load dataset\n",
        "df = pd.read_csv('cleaned_chunk.csv')\n",
        "X = df.drop(columns=['label'])\n",
        "y = df['label']\n",
        "y = (y > 0.5).astype(int)\n",
        "\n",
        "# Apply Robust Scaler\n",
        "scaler = RobustScaler()\n",
        "X_scaled = pd.DataFrame(scaler.fit_transform(X), columns=X.columns)\n",
        "\n",
        "# Shift to ensure all values are non-negative\n",
        "X_shifted = X_scaled - X_scaled.min()\n",
        "\n",
        "# Chi-Square Feature Selection (top 10 features)\n",
        "selector = SelectKBest(score_func=chi2, k=10)\n",
        "X_selected = selector.fit_transform(X_shifted, y)\n",
        "selected_features = X.columns[selector.get_support()]\n",
        "\n",
        "# Train-test split\n",
        "X_train, X_test, y_train, y_test = train_test_split(\n",
        "    pd.DataFrame(X_selected, columns=selected_features), y, test_size=0.2, random_state=42)\n",
        "\n",
        "# Logistic Regression\n",
        "lr_model = LogisticRegression(max_iter=1000, random_state=42)\n",
        "lr_model.fit(X_train, y_train)\n",
        "y_pred = lr_model.predict(X_test)\n",
        "\n",
        "# Results\n",
        "print(\"Logistic Regression + Chi-Square + Robust Scaler - Accuracy:\", accuracy_score(y_test, y_pred))\n",
        "print(\"Selected Features:\", list(selected_features))\n",
        "print(\"Classification Report:\\n\", classification_report(y_test, y_pred))"
      ]
    },
    {
      "cell_type": "code",
      "execution_count": null,
      "metadata": {
        "colab": {
          "background_save": true
        },
        "id": "Dt4z2jAaIuRq",
        "outputId": "9de211f1-887f-426a-e184-92ac13b51387"
      },
      "outputs": [
        {
          "name": "stderr",
          "output_type": "stream",
          "text": [
            "/usr/local/lib/python3.11/dist-packages/xgboost/core.py:158: UserWarning: [12:53:56] WARNING: /workspace/src/learner.cc:740: \n",
            "Parameters: { \"use_label_encoder\" } are not used.\n",
            "\n",
            "  warnings.warn(smsg, UserWarning)\n"
          ]
        },
        {
          "name": "stdout",
          "output_type": "stream",
          "text": [
            "XGBoost + Chi-Square + Robust Scaler - Accuracy: 0.94625\n",
            "Selected Features: ['ts', 'id.orig_h', 'proto_icmp', 'proto_tcp', 'conn_state_OTH', 'conn_state_REJ', 'conn_state_RSTR', 'conn_state_S0', 'conn_state_S3', 'conn_state_SF']\n",
            "Classification Report:\n",
            "               precision    recall  f1-score   support\n",
            "\n",
            "           0       1.00      0.89      0.94     46638\n",
            "           1       0.91      1.00      0.95     53362\n",
            "\n",
            "    accuracy                           0.95    100000\n",
            "   macro avg       0.95      0.94      0.95    100000\n",
            "weighted avg       0.95      0.95      0.95    100000\n",
            "\n"
          ]
        }
      ],
      "source": [
        "#CHI SQUARE WITH ROBUST FOR XGBOOST\n",
        "import pandas as pd\n",
        "from sklearn.model_selection import train_test_split\n",
        "from sklearn.preprocessing import RobustScaler\n",
        "from sklearn.feature_selection import SelectKBest, chi2\n",
        "from sklearn.metrics import accuracy_score, classification_report\n",
        "from xgboost import XGBClassifier\n",
        "\n",
        "# Load dataset\n",
        "df = pd.read_csv('cleaned_chunk.csv')\n",
        "X = df.drop(columns=['label'])\n",
        "y = df['label']\n",
        "y = (y > 0.5).astype(int)\n",
        "\n",
        "# Apply Robust Scaler\n",
        "scaler = RobustScaler()\n",
        "X_scaled = pd.DataFrame(scaler.fit_transform(X), columns=X.columns)\n",
        "\n",
        "# Shift to ensure all values are non-negative (required for chi2)\n",
        "X_shifted = X_scaled - X_scaled.min()\n",
        "\n",
        "# Chi-Square Feature Selection (top 10 features)\n",
        "selector = SelectKBest(score_func=chi2, k=10)\n",
        "X_selected = selector.fit_transform(X_shifted, y)\n",
        "selected_features = X.columns[selector.get_support()]\n",
        "\n",
        "# Train-test split\n",
        "X_train, X_test, y_train, y_test = train_test_split(\n",
        "    pd.DataFrame(X_selected, columns=selected_features), y, test_size=0.2, random_state=42)\n",
        "\n",
        "# XGBoost Classifier\n",
        "xgb_model = XGBClassifier(use_label_encoder=False, eval_metric='logloss', random_state=42)\n",
        "xgb_model.fit(X_train, y_train)\n",
        "y_pred = xgb_model.predict(X_test)\n",
        "\n",
        "# Results\n",
        "print(\"XGBoost + Chi-Square + Robust Scaler - Accuracy:\", accuracy_score(y_test, y_pred))\n",
        "print(\"Selected Features:\", list(selected_features))\n",
        "print(\"Classification Report:\\n\", classification_report(y_test, y_pred))"
      ]
    },
    {
      "cell_type": "code",
      "execution_count": null,
      "metadata": {
        "colab": {
          "background_save": true
        },
        "id": "JmaPw_CkKAGd",
        "outputId": "589cd2d2-a8c7-4f21-f6e6-358eafa16ac0"
      },
      "outputs": [
        {
          "name": "stdout",
          "output_type": "stream",
          "text": [
            "Random Forest (Robust + Correlation) - Accuracy: 0.96108\n",
            "Selected Features: ['id.orig_h', 'proto_tcp', 'conn_state_S0', 'conn_state_OTH', 'conn_state_SF', 'proto_icmp', 'conn_state_REJ', 'conn_state_S3', 'ts', 'conn_state_RSTR']\n",
            "Classification Report:\n",
            "               precision    recall  f1-score   support\n",
            "\n",
            "           0       0.96      0.95      0.96     46638\n",
            "           1       0.96      0.97      0.96     53362\n",
            "\n",
            "    accuracy                           0.96    100000\n",
            "   macro avg       0.96      0.96      0.96    100000\n",
            "weighted avg       0.96      0.96      0.96    100000\n",
            "\n"
          ]
        }
      ],
      "source": [
        "#CORRELATION + ROBUST SCALER RANDOM FOREST\n",
        "import pandas as pd\n",
        "from sklearn.model_selection import train_test_split\n",
        "from sklearn.preprocessing import RobustScaler\n",
        "from sklearn.ensemble import RandomForestClassifier\n",
        "from sklearn.metrics import accuracy_score, classification_report\n",
        "\n",
        "# Load and preprocess\n",
        "df = pd.read_csv('cleaned_chunk.csv')\n",
        "X = df.drop(columns=['label'])\n",
        "y = (df['label'] > 0.5).astype(int)\n",
        "\n",
        "# Correlation-based feature selection\n",
        "correlations = X.corrwith(y).abs()\n",
        "top_features = correlations.sort_values(ascending=False).head(10).index\n",
        "X_selected = X[top_features]\n",
        "\n",
        "# Robust Scaling\n",
        "scaler = RobustScaler()\n",
        "X_scaled = pd.DataFrame(scaler.fit_transform(X_selected), columns=top_features)\n",
        "\n",
        "# Train-test split\n",
        "X_train, X_test, y_train, y_test = train_test_split(X_scaled, y, test_size=0.2, random_state=42)\n",
        "\n",
        "# Random Forest\n",
        "rf_model = RandomForestClassifier(n_estimators=100, random_state=42)\n",
        "rf_model.fit(X_train, y_train)\n",
        "y_pred = rf_model.predict(X_test)\n",
        "\n",
        "# Evaluation\n",
        "print(\"Random Forest (Robust + Correlation) - Accuracy:\", accuracy_score(y_test, y_pred))\n",
        "print(\"Selected Features:\", list(top_features))\n",
        "print(\"Classification Report:\\n\", classification_report(y_test, y_pred))"
      ]
    },
    {
      "cell_type": "code",
      "execution_count": null,
      "metadata": {
        "colab": {
          "background_save": true
        },
        "id": "CMg1L-UrKZQq",
        "outputId": "c4c846d7-d6b7-48b5-a7ef-15984f421320"
      },
      "outputs": [
        {
          "name": "stderr",
          "output_type": "stream",
          "text": [
            "/usr/local/lib/python3.11/dist-packages/xgboost/core.py:158: UserWarning: [12:59:33] WARNING: /workspace/src/learner.cc:740: \n",
            "Parameters: { \"use_label_encoder\" } are not used.\n",
            "\n",
            "  warnings.warn(smsg, UserWarning)\n"
          ]
        },
        {
          "name": "stdout",
          "output_type": "stream",
          "text": [
            "XGBoost (Robust + Correlation) - Accuracy: 0.94624\n",
            "Selected Features: ['id.orig_h', 'proto_tcp', 'conn_state_S0', 'conn_state_OTH', 'conn_state_SF', 'proto_icmp', 'conn_state_REJ', 'conn_state_S3', 'ts', 'conn_state_RSTR']\n",
            "Classification Report:\n",
            "               precision    recall  f1-score   support\n",
            "\n",
            "           0       1.00      0.89      0.94     46638\n",
            "           1       0.91      1.00      0.95     53362\n",
            "\n",
            "    accuracy                           0.95    100000\n",
            "   macro avg       0.95      0.94      0.95    100000\n",
            "weighted avg       0.95      0.95      0.95    100000\n",
            "\n"
          ]
        }
      ],
      "source": [
        "#CORRELATION+ROBUST (XGB)\n",
        "import pandas as pd\n",
        "from sklearn.model_selection import train_test_split\n",
        "from sklearn.preprocessing import RobustScaler\n",
        "from xgboost import XGBClassifier\n",
        "from sklearn.metrics import accuracy_score, classification_report\n",
        "\n",
        "# Load and preprocess\n",
        "df = pd.read_csv('cleaned_chunk.csv')\n",
        "X = df.drop(columns=['label'])\n",
        "y = (df['label'] > 0.5).astype(int)\n",
        "\n",
        "# Correlation-based feature selection\n",
        "correlations = X.corrwith(y).abs()\n",
        "top_features = correlations.sort_values(ascending=False).head(10).index\n",
        "X_selected = X[top_features]\n",
        "\n",
        "# Robust Scaling\n",
        "scaler = RobustScaler()\n",
        "X_scaled = pd.DataFrame(scaler.fit_transform(X_selected), columns=top_features)\n",
        "\n",
        "# Train-test split\n",
        "X_train, X_test, y_train, y_test = train_test_split(X_scaled, y, test_size=0.2, random_state=42)\n",
        "\n",
        "# XGBoost\n",
        "xgb_model = XGBClassifier(use_label_encoder=False, eval_metric='logloss', random_state=42)\n",
        "xgb_model.fit(X_train, y_train)\n",
        "y_pred = xgb_model.predict(X_test)\n",
        "\n",
        "# Evaluation\n",
        "print(\"XGBoost (Robust + Correlation) - Accuracy:\", accuracy_score(y_test, y_pred))\n",
        "print(\"Selected Features:\", list(top_features))\n",
        "print(\"Classification Report:\\n\", classification_report(y_test, y_pred))\n"
      ]
    },
    {
      "cell_type": "code",
      "execution_count": null,
      "metadata": {
        "colab": {
          "background_save": true
        },
        "id": "8TOaabyiKsDx",
        "outputId": "6ab2f0a9-eaa5-4be4-a73e-9efd1730c2e8"
      },
      "outputs": [
        {
          "name": "stdout",
          "output_type": "stream",
          "text": [
            "Logistic Regression (Robust + Correlation) - Accuracy: 0.79873\n",
            "Selected Features: ['id.orig_h', 'proto_tcp', 'conn_state_S0', 'conn_state_OTH', 'conn_state_SF', 'proto_icmp', 'conn_state_REJ', 'conn_state_S3', 'ts', 'conn_state_RSTR']\n",
            "Classification Report:\n",
            "               precision    recall  f1-score   support\n",
            "\n",
            "           0       1.00      0.57      0.72     46638\n",
            "           1       0.73      1.00      0.84     53362\n",
            "\n",
            "    accuracy                           0.80    100000\n",
            "   macro avg       0.86      0.78      0.78    100000\n",
            "weighted avg       0.85      0.80      0.79    100000\n",
            "\n"
          ]
        }
      ],
      "source": [
        "#CORRELATION WITH ROBUST (LR)\n",
        "import pandas as pd\n",
        "from sklearn.model_selection import train_test_split\n",
        "from sklearn.preprocessing import RobustScaler\n",
        "from sklearn.linear_model import LogisticRegression\n",
        "from sklearn.metrics import accuracy_score, classification_report\n",
        "\n",
        "# Load and preprocess\n",
        "df = pd.read_csv('cleaned_chunk.csv')\n",
        "X = df.drop(columns=['label'])\n",
        "y = (df['label'] > 0.5).astype(int)\n",
        "\n",
        "# Correlation-based feature selection\n",
        "correlations = X.corrwith(y).abs()\n",
        "top_features = correlations.sort_values(ascending=False).head(10).index\n",
        "X_selected = X[top_features]\n",
        "\n",
        "# Robust Scaling\n",
        "scaler = RobustScaler()\n",
        "X_scaled = pd.DataFrame(scaler.fit_transform(X_selected), columns=top_features)\n",
        "\n",
        "# Train-test split\n",
        "X_train, X_test, y_train, y_test = train_test_split(X_scaled, y, test_size=0.2, random_state=42)\n",
        "\n",
        "# Logistic Regression\n",
        "lr_model = LogisticRegression(max_iter=1000, random_state=42)\n",
        "lr_model.fit(X_train, y_train)\n",
        "y_pred = lr_model.predict(X_test)\n",
        "\n",
        "# Evaluation\n",
        "print(\"Logistic Regression (Robust + Correlation) - Accuracy:\", accuracy_score(y_test, y_pred))\n",
        "print(\"Selected Features:\", list(top_features))\n",
        "print(\"Classification Report:\\n\", classification_report(y_test, y_pred))"
      ]
    }
  ],
  "metadata": {
    "colab": {
      "provenance": []
    },
    "kernelspec": {
      "display_name": "Python 3",
      "name": "python3"
    },
    "language_info": {
      "name": "python"
    }
  },
  "nbformat": 4,
  "nbformat_minor": 0
}